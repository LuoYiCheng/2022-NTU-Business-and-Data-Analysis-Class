{
 "cells": [
  {
   "cell_type": "markdown",
   "metadata": {},
   "source": [
    "# 商業與大數據分析\n",
    "    NLP語意分析實作\n",
    "- 資料集：2021年所有有關跌停、漲停的新聞報導 (因為2021年股市大熱因此83%為漲停)\n",
    "- 任務\n",
    "    1. 找出具有鑑別力的200個詞彙\n",
    "    2. 「以文找文」給定一段文字/一篇報導，找出最相似的報導\n",
    "    3. 利用監督式學習建立文章自動分類器，給定文字->判斷漲停or跌停\n",
    "- 羅奕丞 2022/3/23"
   ]
  },
  {
   "cell_type": "markdown",
   "metadata": {},
   "source": [
    "# 各列出100個詞彙漲停及跌停文件中最具鑑別力的詞彙\n",
    "    這裡採 「出現頻率」 做為鑑別力高低的評判標準"
   ]
  },
  {
   "cell_type": "code",
   "execution_count": 1,
   "metadata": {},
   "outputs": [
    {
     "name": "stdout",
     "output_type": "stream",
     "text": [
      "+---------------------------------------------------------------------+\n",
      "  Welcome to MONPA: Multi-Objective NER POS Annotator for Chinese\n",
      "+---------------------------------------------------------------------+\n",
      "已找到 model檔。Found model file.\n"
     ]
    }
   ],
   "source": [
    "import monpa\n",
    "from collections import defaultdict\n",
    "import itertools \n",
    "import pandas as pd\n",
    "import numpy as np"
   ]
  },
  {
   "cell_type": "code",
   "execution_count": 2,
   "metadata": {},
   "outputs": [],
   "source": [
    "import csv\n",
    "documents = []\n",
    "with open(r'C:\\Users\\Yicheng\\Desktop\\NTU\\110-2\\Bigdata Business Analysis\\bda2022_hw2_text\\limit_up.csv', newline='', encoding=\"utf-8\") as csvfile:\n",
    "     spamreader = csv.reader(csvfile)\n",
    "     next(spamreader)  # 跳過第一行\n",
    "     for row in spamreader:\n",
    "         documents.append(row)  # 漲停共有612個漲停document\n",
    "with open(r'C:\\Users\\Yicheng\\Desktop\\NTU\\110-2\\Bigdata Business Analysis\\bda2022_hw2_text\\limit_down.csv', newline='', encoding=\"utf-8\") as csvfile:\n",
    "     spamreader = csv.reader(csvfile)\n",
    "     next(spamreader)  # 跳過第一行\n",
    "     for row in spamreader:\n",
    "         documents.append(row)  # 跌停共有126個跌停document\n",
    "\n"
   ]
  },
  {
   "cell_type": "code",
   "execution_count": 3,
   "metadata": {},
   "outputs": [],
   "source": [
    "# Title轉換成漲停與否的0,1變數，也就是之後要預測的Y\n",
    "documents_title = []\n",
    "for i in range(len(documents)):\n",
    "    documents_title.append(documents[i][0])  # 把標題存起來，以便找出相似度文章後索引\n",
    "    if '漲停' in documents[i][0]:\n",
    "        documents[i][0] = 1\n",
    "    else:\n",
    "        documents[i][0] = 0\n",
    "        "
   ]
  },
  {
   "cell_type": "code",
   "execution_count": 4,
   "metadata": {},
   "outputs": [
    {
     "name": "stderr",
     "output_type": "stream",
     "text": [
      "C:\\Users\\Yicheng\\anaconda3\\lib\\site-packages\\monpa\\crf_layer.py:374: UserWarning: where received a uint8 condition tensor. This behavior is deprecated and will be removed in a future version of PyTorch. Use a boolean condition instead. (Triggered internally at  C:\\actions-runner\\_work\\pytorch\\pytorch\\builder\\windows\\pytorch\\aten\\src\\ATen\\native\\TensorCompare.cpp:333.)\n",
      "  score = torch.where(mask[i].unsqueeze(1), next_score, score)\n"
     ]
    }
   ],
   "source": [
    "# 長句截成短句再使用monpa斷句，否則會遺失token\n",
    "def LongCut(long_sentence, split_char):\n",
    "    seg = []\n",
    "    for item in long_sentence.split(split_char):\n",
    "        if item != \"\\n\": seg.extend(monpa.cut(f'{item}{split_char}'))\n",
    "    return seg[:-1]\n",
    "\n",
    "# 每篇的斷詞結果，存成一個Nestlist: tokens\n",
    "documents_token = [LongCut(document[1], '，') for document in documents] # Runtime: 4m 4.6s\n",
    "\n",
    "# len(documents_token) \n",
    "# 738"
   ]
  },
  {
   "cell_type": "markdown",
   "metadata": {},
   "source": [
    "+ 接下來移除長度為1的token"
   ]
  },
  {
   "cell_type": "code",
   "execution_count": 5,
   "metadata": {},
   "outputs": [],
   "source": [
    "for i in range(len(documents_token)):\n",
    "    documents_token[i] = list(\n",
    "        filter(lambda token: len(token) >= 2, documents_token[i]))\n"
   ]
  },
  {
   "cell_type": "markdown",
   "metadata": {},
   "source": [
    "- 建立語料庫(corpus)，使用gensim套件"
   ]
  },
  {
   "cell_type": "code",
   "execution_count": 6,
   "metadata": {},
   "outputs": [],
   "source": [
    "from gensim.corpora.dictionary import Dictionary\n",
    "from gensim.models.tfidfmodel import TfidfModel\n",
    "dictionary = Dictionary(documents_token)\n",
    "# Create a MmCorpus: corpus\n",
    "corpus = [dictionary.doc2bow(document_token) for document_token in documents_token]"
   ]
  },
  {
   "cell_type": "code",
   "execution_count": 7,
   "metadata": {},
   "outputs": [
    {
     "name": "stdout",
     "output_type": "stream",
     "text": [
      "[(285, 886), (309, 822), (132, 759), (378, 671), (92, 603)]\n",
      "[(3081, 251), (309, 222), (92, 155), (1057, 138), (56, 135)]\n"
     ]
    }
   ],
   "source": [
    "# Create the defaultdict: up_word_count\n",
    "up_word_count = defaultdict(int)\n",
    "for word_id, word_count in itertools.chain.from_iterable(corpus[:613]):  # itertools.chain是為了讓我們能夠把整個corpus清單視為一整個連續的list(本來裡面有612個子list)\n",
    "    up_word_count[word_id] += word_count\n",
    "    \n",
    "# Create a sorted list from the defaultdict: sorted_word_count\n",
    "sorted_up_word_count = sorted(up_word_count.items(), key=lambda w: w[1], reverse=True) \n",
    "\n",
    "# Store TOP 100 token for up\n",
    "top100_up_token = [(ids, freq) for ids, freq in sorted_up_word_count[:100]]\n",
    "print(top100_up_token[:5])\n",
    "\n",
    "\n",
    "# Create the defaultdict: down_word_count\n",
    "down_word_count = defaultdict(int)\n",
    "for word_id, word_count in itertools.chain.from_iterable(corpus[613:]):\n",
    "    down_word_count[word_id] += word_count\n",
    "    \n",
    "# Create a sorted list from the defaultdict: sorted_word_count\n",
    "sorted_down_word_count = sorted(down_word_count.items(), key=lambda w: w[1], reverse=True) \n",
    "\n",
    "# Store TOP 100 token for down\n",
    "top100_down_token = [(ids, freq) for ids, freq in sorted_down_word_count[:100]]\n",
    "print(top100_down_token[:5])"
   ]
  },
  {
   "cell_type": "markdown",
   "metadata": {},
   "source": [
    "# 實作「以文找文」的功能\n",
    "    ● 直接應用上課教的簡易方法，求兩向量cosine\n",
    "    ● 為了方便測試\\query其他文章報導，因此直接定義一個找前3個相似度最高的報導的函數\n",
    "    ● 測試將文章複製兩倍長，結果cosine相同，表示在tfidfModel時有作Length normalization\n",
    "- 以選出來的200個keyword重新篩選每篇文章的tokens"
   ]
  },
  {
   "cell_type": "code",
   "execution_count": 8,
   "metadata": {},
   "outputs": [],
   "source": [
    "# Find the TOP200 keywords\n",
    "keyword200 = [dictionary.get(ids) for ids, freq in (top100_up_token + top100_down_token)]\n",
    "\n",
    "# Filter the original token, select those in TOP200 keywords\n",
    "documents_token_200 = []\n",
    "for document in documents_token:\n",
    "    document_token_200 = list(filter(lambda token: token in keyword200, document))\n",
    "    documents_token_200.append(document_token_200)"
   ]
  },
  {
   "cell_type": "markdown",
   "metadata": {},
   "source": [
    "- 下一步是建立Dictionary & Tfidf模型，將每篇報導轉成向量空間"
   ]
  },
  {
   "cell_type": "code",
   "execution_count": 9,
   "metadata": {},
   "outputs": [],
   "source": [
    "# Create new dictionary\n",
    "dictionary_200 = Dictionary(documents_token_200)\n",
    "\n",
    "# Create a MmCorpus: corpus\n",
    "corpus_200 = [dictionary_200.doc2bow(document_token_200) for document_token_200 in documents_token_200]\n",
    "\n",
    "# Create a new TfidfModel using the corpus: tfidf\n",
    "tfidf = TfidfModel(corpus_200)\n",
    "\n",
    "# Create Document Vector\n",
    "n_items = len(dictionary_200)\n",
    "corpus_200_tfidf = tfidf[corpus_200]\n",
    "documents_space = []\n",
    "for doc in corpus_200_tfidf:\n",
    "    d = [0] * n_items\n",
    "    for index, value in doc :\n",
    "        d[index] = value\n",
    "    documents_space.append(d)\n"
   ]
  },
  {
   "cell_type": "markdown",
   "metadata": {},
   "source": [
    "+ 定義找相似度最高前三篇報導的函數"
   ]
  },
  {
   "cell_type": "code",
   "execution_count": 10,
   "metadata": {},
   "outputs": [],
   "source": [
    "def get_query_tfidf(query):\n",
    "    '''To find the [(index, tfidf_value)] for this query'''\n",
    "    query_token = LongCut(query, '，')\n",
    "    for i in range(len(query_token)):\n",
    "        query_token = list(\n",
    "            filter(lambda token: len(token) >= 2, query_token)\n",
    "            )\n",
    "    query_corpus = dictionary_200.doc2bow(query_token)\n",
    "    tfidf_query_weight = tfidf[query_corpus]\n",
    "    return tfidf_query_weight\n",
    "\n",
    "def TOP3_similarity(query):\n",
    "    '''Use this function to find out the most similar document on the query we input\n",
    "    tokenize, filter, calculate cosine, sort the outcome.\n",
    "    '''\n",
    "    tfidf_query_weight = get_query_tfidf(query)\n",
    "    similarity_list = []\n",
    "    for document in range(len(documents_space)):\n",
    "        cosine = 0\n",
    "        for index, value in tfidf_query_weight:\n",
    "            cosine += value * documents_space[document][index]\n",
    "        similarity_list.append([document, cosine])\n",
    "            \n",
    "    similarity_list_ordered = sorted(similarity_list, key = lambda x: x[1], reverse=True)\n",
    "\n",
    "    return similarity_list_ordered[:3]"
   ]
  },
  {
   "cell_type": "code",
   "execution_count": 11,
   "metadata": {},
   "outputs": [
    {
     "name": "stdout",
     "output_type": "stream",
     "text": [
      "最相似報導: 《各報要聞》半導體股 14檔飆漲停 \t similarity: 0.9942127852796526\n",
      "最相似報導: 《台北股市》權王轉填息、華碩飆漲停 快攻16300關 \t similarity: 0.5379826264014862\n",
      "最相似報導: 台積電領軍台股端午後攻高 高端漲跌停一瞬間 \t similarity: 0.5272127789801117\n"
     ]
    }
   ],
   "source": [
    "query = '''半導體股12日回神，蘋果股價創歷史新高，蘋果鏈龍頭指標股台積電15日法說會在即，股價應聲大漲9元收593元，外資回頭狂加碼，激勵半導體四強—台積電、聯發科、日月光投控及聯電股價聯袂大漲，更有千金股祥碩亮燈漲停領軍、共14檔中小型半導體股飆漲停。美國費城半導體指數9日收漲1.72％，是四大指數中表現最強，台積電ADR更反彈2.28％，激勵台股12日開盤後，股價就直接跳空大漲，半導體重量級指標股一片紅通通，帶動半導體類股指數最後收漲1.8％，成為電子股上漲1.36％最佳助攻手。上市半導體股共75檔個股，除了台積電單一個股市值增長貢獻2,333.8億元之外，整體上市半導體股市值回升3,731億元；個股就有祥碩、威鋒電子、菱生、華東、愛普、凌通、盛群、晶心科、凌陽、強茂、同欣電、迅杰、矽統、界霖等14檔飆漲停。統一投顧董事長黎方國指出，蘋果股價9日創歷史新高，激勵蘋概股股價走強，加上下半年為電子旺季，市場關注台積電15日法說會內容可能偏正向，隨著傳產股漲多之後，帶動資金從傳產股回流，預期未來台股成交量能會均衡在電子與傳產之間。台股12日成交值5,588億元，電子股成交值2,425億元，惟電子股成交值比重仍僅有43％多；若聚焦看半導體股成交值為1,395億元、占比約25％。台新投顧副總黃文清指出，近日市場資金尚未真正重返權值電子股，由中小型電子尖兵領頭，不少個股股價不是漲停就是創新高。多位投資專家已將目光重回電子股，但認為目前電子股反彈氣勢仍不夠，成交值占比至少要重回五成以上，才可望重回主流，成交值要達到六～七成才有攻擊力道，因而，短線仍觀察資金消長。黎方國認為，電子五強台積電、聯發科、鴻海、大立光及台達電等，目前股價位階都尚屬偏低，與前一波高點相較都還有很大落差，目前技術線型仍然偏弱，未來有待資金重返。'''\n",
    "# query = '''半導體股12日回神，蘋果股價創歷史新高，蘋果鏈龍頭指標股台積電15日法說會在即，股價應聲大漲9元收593元，外資回頭狂加碼，激勵半導體四強—台積電、聯發科、日月光投控及聯電股價聯袂大漲，更有千金股祥碩亮燈漲停領軍、共14檔中小型半導體股飆漲停。美國費城半導體指數9日收漲1.72％，是四大指數中表現最強，台積電ADR更反彈2.28％，激勵台股12日開盤後，股價就直接跳空大漲，半導體重量級指標股一片紅通通，帶動半導體類股指數最後收漲1.8％，成為電子股上漲1.36％最佳助攻手。上市半導體股共75檔個股，除了台積電單一個股市值增長貢獻2,333.8億元之外，整體上市半導體股市值回升3,731億元；個股就有祥碩、威鋒電子、菱生、華東、愛普、凌通、盛群、晶心科、凌陽、強茂、同欣電、迅杰、矽統、界霖等14檔飆漲停。統一投顧董事長黎方國指出，蘋果股價9日創歷史新高，激勵蘋概股股價走強，加上下半年為電子旺季，市場關注台積電15日法說會內容可能偏正向，隨著傳產股漲多之後，帶動資金從傳產股回流，預期未來台股成交量能會均衡在電子與傳產之間。台股12日成交值5,588億元，電子股成交值2,425億元，惟電子股成交值比重仍僅有43％多'''\n",
    "\n",
    "# https://www.chinatimes.com/newspapers/20210713000122-260202?chdtv\n",
    "\n",
    "TOP3_similarity(query)\n",
    "for index, value in TOP3_similarity(query)[:3]:\n",
    "    print('最相似報導: {} \\t similarity: {}'.format(documents_title[index], value))\n",
    "\n",
    "# 最相似報導: 《各報要聞》半導體股 14檔飆漲停 \t similarity: 0.9929300617251932\n",
    "# 最相似報導: 台積電領軍台股端午後攻高 高端漲跌停一瞬間 \t similarity: 0.5890672303850195\n",
    "# 最相似報導: 《盤後解析》台積振作、萬海漲停 台股守住萬七 \t similarity: 0.5869290917528419"
   ]
  },
  {
   "cell_type": "markdown",
   "metadata": {},
   "source": [
    "# 實作「文件自動標記」的分類功能\n",
    "    ● Multinomial Naive Bayes\n",
    "    ● Support Vector Machine\n",
    "    ● k-Nearest Neighbor\n",
    "    ● LogisticRegression\n",
    "    ● Decision Tree"
   ]
  },
  {
   "cell_type": "code",
   "execution_count": 12,
   "metadata": {},
   "outputs": [],
   "source": [
    "# Create column name for DF\n",
    "token_name = []\n",
    "for index in range(n_items):\n",
    "    token_name.append(dictionary_200.get(index))\n",
    "\n",
    "# Build DF\n",
    "dfidf_df = pd.DataFrame(documents_space, columns=token_name)"
   ]
  },
  {
   "cell_type": "markdown",
   "metadata": {},
   "source": [
    "- 拆分訓練與測試資料集"
   ]
  },
  {
   "cell_type": "code",
   "execution_count": 13,
   "metadata": {},
   "outputs": [],
   "source": [
    "from sklearn.model_selection import train_test_split, GridSearchCV\n",
    "from sklearn.metrics import roc_curve, classification_report\n",
    "from sklearn import metrics\n",
    "\n",
    "y_array = np.array(documents)\n",
    "y = y_array[:,0].astype('int')\n",
    "X_train, X_test, y_train, y_test = train_test_split(dfidf_df, y, test_size=0.33, random_state=42)"
   ]
  },
  {
   "cell_type": "markdown",
   "metadata": {},
   "source": [
    "- 比較不同分類器的優劣程度 (交叉驗證、計算Accuracy)"
   ]
  },
  {
   "cell_type": "code",
   "execution_count": 14,
   "metadata": {},
   "outputs": [],
   "source": [
    "from sklearn.model_selection import cross_val_score\n",
    "\n",
    "def get_cvscore(classifier,X,y,cv=5,scoring='accuracy'):\n",
    "    '''return scores, Avg score'''\n",
    "    scores = cross_val_score(classifier,X,y,cv=cv,scoring=scoring)\n",
    "    print(scores)\n",
    "    print(\"Avg. Accuracy: {}\".format(scores.mean()))"
   ]
  },
  {
   "cell_type": "code",
   "execution_count": 15,
   "metadata": {},
   "outputs": [],
   "source": [
    "from sklearn.metrics import roc_auc_score\n",
    "def fit_model(classifier, X_train, y_train, y_test):\n",
    "    '''We fit model and return fpr, tpr, y_pred'''\n",
    "    classifier.fit(X_train, y_train)\n",
    "    y_pred = classifier.predict(X_train)\n",
    "    y_pred_prob = classifier.predict_proba(X_test)[:,1]\n",
    "    print('Accuracy: {}'.format(classifier.score(X_test, y_test)))\n",
    "    fpr, tpr, thresholds = roc_curve(y_test, y_pred_prob)\n",
    "    return fpr, tpr, y_pred"
   ]
  },
  {
   "cell_type": "code",
   "execution_count": 16,
   "metadata": {},
   "outputs": [],
   "source": [
    "# 定義繪製ROC Curve的函數\n",
    "import matplotlib.pyplot as plt\n",
    "def plot_ROC_Curve(fpr, tpr):\n",
    "    plt.plot([0, 1], [0, 1], 'k--')\n",
    "    plt.plot(fpr, tpr)\n",
    "    plt.xlabel('False Positive Rate')\n",
    "    plt.ylabel('True Positive Rate')\n",
    "    plt.title('ROC Curve')\n",
    "    plt.show()"
   ]
  },
  {
   "cell_type": "markdown",
   "metadata": {},
   "source": [
    "- Multinomial Naive bayes Model"
   ]
  },
  {
   "cell_type": "code",
   "execution_count": 28,
   "metadata": {},
   "outputs": [
    {
     "name": "stdout",
     "output_type": "stream",
     "text": [
      "[0.87878788 0.88888889 0.90909091 0.88888889 0.87755102]\n",
      "Avg. Accuracy: 0.8886415172129458\n"
     ]
    }
   ],
   "source": [
    "from sklearn.naive_bayes import MultinomialNB\n",
    "Multi_nb = MultinomialNB()\n",
    "get_cvscore(Multi_nb, X_train, y_train, cv=5, scoring='accuracy')"
   ]
  },
  {
   "cell_type": "markdown",
   "metadata": {},
   "source": [
    "- SVC"
   ]
  },
  {
   "cell_type": "code",
   "execution_count": 18,
   "metadata": {},
   "outputs": [
    {
     "name": "stdout",
     "output_type": "stream",
     "text": [
      "[0.90909091 0.8989899  0.91919192 0.8989899  0.86734694]\n",
      "Avg. Accuracy: 0.8987219130076273\n"
     ]
    }
   ],
   "source": [
    "# SVM\n",
    "from sklearn.svm import SVC\n",
    "svm = SVC(kernel='linear')\n",
    "get_cvscore(svm , X_train, y_train, cv=5, scoring='accuracy')"
   ]
  },
  {
   "cell_type": "markdown",
   "metadata": {},
   "source": [
    "- KNN"
   ]
  },
  {
   "cell_type": "code",
   "execution_count": 34,
   "metadata": {},
   "outputs": [
    {
     "name": "stdout",
     "output_type": "stream",
     "text": [
      "[0.84848485 0.86868687 0.91919192 0.84848485 0.83673469]\n",
      "Avg. Accuracy: 0.8643166357452072\n"
     ]
    }
   ],
   "source": [
    "from sklearn.neighbors import KNeighborsClassifier\n",
    "knn = KNeighborsClassifier(n_neighbors = 5)\n",
    "get_cvscore(knn , X_train, y_train, cv=5, scoring='accuracy')"
   ]
  },
  {
   "cell_type": "markdown",
   "metadata": {},
   "source": [
    "- Logistic Regression"
   ]
  },
  {
   "cell_type": "code",
   "execution_count": 20,
   "metadata": {},
   "outputs": [
    {
     "name": "stdout",
     "output_type": "stream",
     "text": [
      "[0.87878788 0.84848485 0.88888889 0.86868687 0.84693878]\n",
      "Avg. Accuracy: 0.8663574520717378\n"
     ]
    }
   ],
   "source": [
    "# Logistic Regre\n",
    "from sklearn.linear_model import LogisticRegression\n",
    "log_reg = LogisticRegression().fit(X_train, y_train)\n",
    "get_cvscore(log_reg , X_train, y_train, cv=5, scoring='accuracy')"
   ]
  },
  {
   "cell_type": "markdown",
   "metadata": {},
   "source": [
    "- Decision Tree"
   ]
  },
  {
   "cell_type": "code",
   "execution_count": 21,
   "metadata": {},
   "outputs": [
    {
     "name": "stdout",
     "output_type": "stream",
     "text": [
      "[0.93939394 0.97979798 0.98989899 0.95959596 0.96938776]\n",
      "Avg. Accuracy: 0.9676149247577819\n"
     ]
    }
   ],
   "source": [
    "from sklearn.tree import DecisionTreeClassifier                          \n",
    "decisiontree = DecisionTreeClassifier(criterion=\"entropy\")\n",
    "get_cvscore(decisiontree , X_train, y_train, cv=5, scoring='accuracy')"
   ]
  },
  {
   "cell_type": "markdown",
   "metadata": {},
   "source": [
    "# 使用Decision Tree 作為我們文件自動分類的Model"
   ]
  },
  {
   "cell_type": "code",
   "execution_count": 22,
   "metadata": {},
   "outputs": [
    {
     "name": "stdout",
     "output_type": "stream",
     "text": [
      "Accuracy of decisiontree: 0.9795081967213115\n"
     ]
    },
    {
     "data": {
      "image/png": "[encoded data removed]",
      "text/plain": [
       "<Figure size 432x288 with 1 Axes>"
      ]
     },
     "metadata": {
      "needs_background": "light"
     },
     "output_type": "display_data"
    },
    {
     "name": "stdout",
     "output_type": "stream",
     "text": [
      "AUC: 0.9523581681476417\n",
      "              precision    recall  f1-score   support\n",
      "\n",
      "           0       0.94      0.91      0.93        35\n",
      "           1       0.99      0.99      0.99       209\n",
      "\n",
      "    accuracy                           0.98       244\n",
      "   macro avg       0.96      0.95      0.96       244\n",
      "weighted avg       0.98      0.98      0.98       244\n",
      "\n",
      "[[ 32   3]\n",
      " [  2 207]]\n"
     ]
    }
   ],
   "source": [
    "decisiontree.fit(X_train, y_train)\n",
    "y_pred = decisiontree.predict(X_test)\n",
    "y_pred_prob = decisiontree.predict_proba(X_test)[:,1]\n",
    "print('Accuracy of decisiontree: {}'.format(decisiontree.score(X_test, y_test)))\n",
    "fpr, tpr, thresholds = roc_curve(y_test, y_pred_prob)\n",
    "\n",
    "# Plot AUC Curve\n",
    "plot_ROC_Curve(fpr, tpr)\n",
    "\n",
    "# AUC\n",
    "print(\"AUC: {}\".format(roc_auc_score(y_test, y_pred_prob)))\n",
    "\n",
    "# classification_report\n",
    "print(classification_report(y_test, y_pred))\n",
    "\n",
    "# confusion_matrix\n",
    "from sklearn.metrics import confusion_matrix  \n",
    "print(confusion_matrix(y_test, y_pred)) #印出混淆矩陣\n",
    "# test/predicted 看跌   看漲\n",
    "#    看跌         TN     FP\n",
    "#    看漲         FN     TP\n"
   ]
  },
  {
   "cell_type": "code",
   "execution_count": null,
   "metadata": {},
   "outputs": [],
   "source": [
    "# 只取年月日的時間格式\n",
    "df_stocks.index = pd.to_datetime(df_stocks.index.date)\n",
    "df_news.index = pd.to_datetime(df_news.index.date)"
   ]
  },
  {
   "cell_type": "markdown",
   "metadata": {},
   "source": [
    "- 給定任何內容進行預測"
   ]
  },
  {
   "cell_type": "code",
   "execution_count": 23,
   "metadata": {},
   "outputs": [],
   "source": [
    "#給定任何一段內容當作查詢\n",
    "query1='PC品牌大廠華碩（2357）今（16）日舉行線上法說會，受惠顯示卡及PC需求暢旺，\\\n",
    "  帶動華碩去年品牌毛利率、營益率、淨利率「三率三升」，稅後純益大增68%，創下歷史新高，\\\n",
    "  全年每股純益（EPS）達60元，大賺近6個股本。華碩今日公布去年品牌財報，毛利率20.3%，\\\n",
    "  年增3.1個百分點。營益率9.6%，年增3個百分點。稅後純益445.5億元，年增68%。\\\n",
    "  淨利率8.9%，年增2個百分點。全年每股純益達60元'\n",
    "query2='台股加權指數在最近9個交易日，從最高到最低點，跌了2,544點，創下史上最快速的失速列車紀錄；\\\n",
    "  12日台股盤中急挫1,418點，市場衰鴻遍野，據統計，盤中最多曾有711檔個股觸及跌停、占上市櫃的四成比重，\\\n",
    "  最後仍有251檔收跌停，其中，陽明等15檔股價亮燈跌停，仍有7千張以上賣單高掛，貨櫃三雄均入榜。'\n"
   ]
  },
  {
   "cell_type": "code",
   "execution_count": 24,
   "metadata": {},
   "outputs": [],
   "source": [
    "def predict_document(classifier, query):\n",
    "    '''Predict the query for up or down'''\n",
    "    d = [0] * n_items\n",
    "    for index, value in get_query_tfidf(query) :\n",
    "        d[index] = value\n",
    "    X = pd.DataFrame([d], columns=token_name) #將q印出做觀察\n",
    "    y_pred = classifier.predict(X) #預測\n",
    "    return y_pred"
   ]
  },
  {
   "cell_type": "code",
   "execution_count": 25,
   "metadata": {},
   "outputs": [
    {
     "name": "stdout",
     "output_type": "stream",
     "text": [
      "[1] [0]\n"
     ]
    }
   ],
   "source": [
    "pred_1 = predict_document(decisiontree, query1)\n",
    "pred_2 = predict_document(decisiontree, query2)\n",
    "print(pred_1, pred_2)"
   ]
  }
 ],
 "metadata": {
  "interpreter": {
   "hash": "eee7740a337f9e7c10d6ae85fe605269daa681326b748331346b28b018f52078"
  },
  "kernelspec": {
   "display_name": "Python 3.9.7 ('.venv': venv)",
   "language": "python",
   "name": "python3"
  },
  "language_info": {
   "codemirror_mode": {
    "name": "ipython",
    "version": 3
   },
   "file_extension": ".py",
   "mimetype": "text/x-python",
   "name": "python",
   "nbconvert_exporter": "python",
   "pygments_lexer": "ipython3",
   "version": "3.9.7"
  },
  "orig_nbformat": 4
 },
 "nbformat": 4,
 "nbformat_minor": 2
}
