{
 "cells": [
  {
   "cell_type": "markdown",
   "metadata": {},
   "source": [
    "# 商業與大數據分析－期末專案\n",
    "    會員資料: ~ 2022-04-30\n",
    "    主單資料: 2013-09-30 ~ 2022-04-30\n",
    "    子單資料: 2013-09-30 ~ 2022-04-30\n",
    "    商品頁資料: ~ 2022-05-04\n",
    "    行為資料: 2018-06 and 2021-02\n"
   ]
  },
  {
   "cell_type": "code",
   "execution_count": null,
   "metadata": {},
   "outputs": [],
   "source": [
    "import pandas as pd\n",
    "import numpy as np"
   ]
  },
  {
   "cell_type": "markdown",
   "metadata": {},
   "source": [
    "- 會員資料"
   ]
  },
  {
   "cell_type": "code",
   "execution_count": null,
   "metadata": {},
   "outputs": [],
   "source": [
    "# 讀取資料\n",
    "member_df = pd.read_csv(r'.\\91APP_MemberData.csv', encoding='utf-8')\n",
    "\n",
    "# 將時間欄位轉成datetime格式\n",
    "datecols = ['RegisterDateTime', 'Birthday', 'FirstAppOpenDateTime', 'LastAppOpenDateTime']\n",
    "for col in member_df.columns:\n",
    "    if col in datecols:\n",
    "        member_df[col] = pd.to_datetime(member_df[col], errors='coerce')\n",
    "\n",
    "member_df.shape"
   ]
  },
  {
   "cell_type": "code",
   "execution_count": null,
   "metadata": {},
   "outputs": [],
   "source": [
    "member_df.info()"
   ]
  },
  {
   "cell_type": "code",
   "execution_count": null,
   "metadata": {},
   "outputs": [],
   "source": [
    "member_df"
   ]
  },
  {
   "cell_type": "markdown",
   "metadata": {},
   "source": [
    "- 主訂單"
   ]
  },
  {
   "cell_type": "code",
   "execution_count": null,
   "metadata": {},
   "outputs": [],
   "source": [
    "# 讀取資料\n",
    "order_df = pd.read_csv(r'.\\91APP_OrderData.csv', encoding='utf-8')\n",
    "\n",
    "# 將時間欄位轉成datetime格式\n",
    "order_df.OrderDateTime = pd.to_datetime(order_df.OrderDateTime)\n",
    "\n",
    "order_df.shape"
   ]
  },
  {
   "cell_type": "code",
   "execution_count": null,
   "metadata": {},
   "outputs": [],
   "source": [
    "order_df[order_df['MemberId'] == 'PhAgr13BKhzf19pLID77a4E0/AOSWcL+2Uh8lTed5Yg=']"
   ]
  },
  {
   "cell_type": "markdown",
   "metadata": {},
   "source": [
    "- 子訂單"
   ]
  },
  {
   "cell_type": "code",
   "execution_count": null,
   "metadata": {},
   "outputs": [],
   "source": [
    "# 讀取資料\n",
    "suborder_df = pd.read_csv(r'.\\91APP_OrderSlaveData.csv', encoding='utf-8')\n",
    "\n",
    "# 將時間欄位轉成datetime格式\n",
    "datecols = ['OrderDateTime', 'OrderFinishDateTime']\n",
    "for col in suborder_df.columns:\n",
    "    if col in datecols:\n",
    "        suborder_df[col] = pd.to_datetime(suborder_df[col], errors='coerce')\n",
    "\n",
    "\n",
    "suborder_df.shape"
   ]
  },
  {
   "cell_type": "markdown",
   "metadata": {},
   "source": [
    "- 商品頁資料"
   ]
  },
  {
   "cell_type": "code",
   "execution_count": null,
   "metadata": {},
   "outputs": [],
   "source": [
    "# 讀取資料\n",
    "salepage_df = pd.read_csv(r'.\\91APP_SalePageData.csv', encoding='utf-8')"
   ]
  },
  {
   "cell_type": "code",
   "execution_count": null,
   "metadata": {},
   "outputs": [],
   "source": [
    "salepage_df.shape"
   ]
  },
  {
   "cell_type": "code",
   "execution_count": null,
   "metadata": {},
   "outputs": [],
   "source": []
  },
  {
   "cell_type": "markdown",
   "metadata": {},
   "source": [
    "- 行為資料"
   ]
  },
  {
   "cell_type": "code",
   "execution_count": null,
   "metadata": {},
   "outputs": [],
   "source": [
    "Behavior202102_df = pd.read_csv(r'C:\\Users\\Yicheng\\Desktop\\NTU\\110-2\\Bigdata Business Analysis\\91APP_DataSet_2022\\Behavior202102_df.csv', encoding='utf-8')"
   ]
  },
  {
   "cell_type": "code",
   "execution_count": null,
   "metadata": {},
   "outputs": [],
   "source": [
    "# from datetime import timedelta\n",
    "# Behavior202102_df.HitDateTime = Behavior202102_df.HitTime.apply(lambda x: pd.to_datetime(x, unit='ms') + timedelta(hours=8))\n",
    "# Behavior202102_df.EventTime = Behavior202102_df.EventTime.apply(lambda x: pd.to_datetime(x, unit='ms') + timedelta(hours=8))"
   ]
  },
  {
   "cell_type": "code",
   "execution_count": null,
   "metadata": {},
   "outputs": [],
   "source": [
    "Behavior202102_df.columns"
   ]
  },
  {
   "cell_type": "code",
   "execution_count": null,
   "metadata": {},
   "outputs": [],
   "source": [
    "behavior_cols = ['Tunnel', 'FullvisitorId', 'MemberId', 'UTMSource', 'UTMMedium', 'Behavior', 'SalePageId', 'SearchTerm', 'HitDateTime', 'EventTime']\n",
    "Behavior202102_df = Behavior202102_df.sort_values(['FullvisitorId', 'HitDateTime', 'EventTime'])[behavior_cols]"
   ]
  },
  {
   "cell_type": "code",
   "execution_count": null,
   "metadata": {},
   "outputs": [],
   "source": [
    "Behavior202102_df.head(5)"
   ]
  },
  {
   "cell_type": "code",
   "execution_count": null,
   "metadata": {},
   "outputs": [],
   "source": [
    "# 共249531個登入ID\n",
    "Behavior202102_df.FullvisitorId.nunique()"
   ]
  },
  {
   "cell_type": "code",
   "execution_count": null,
   "metadata": {},
   "outputs": [],
   "source": [
    "# 查看行為分布\n",
    "Behavior202102_df.Behavior.value_counts()"
   ]
  },
  {
   "cell_type": "code",
   "execution_count": null,
   "metadata": {},
   "outputs": [],
   "source": [
    "# 寫入檔案\n",
    "# Behavior202102_df.to_csv(\"Behavior202102_df.csv\", index=False)"
   ]
  },
  {
   "cell_type": "markdown",
   "metadata": {},
   "source": [
    "# 由行為資料進行顧客分群\n",
    "    找到活躍、猶豫、已購買客戶\n",
    "    純訪客：註冊成為會員的轉換率\n",
    "    用以下過去30天行為資料分群：\n",
    "1. Session (重複瀏覽)、Session 時長(瀏覽時長)\n",
    "2. 瀏覽商品頁次數\n",
    "3. 搜尋次數\n",
    "4. 瀏覽優惠次數(折價券詳細頁、現折活動內容頁、優惠券內容頁)\n",
    "5. 加入購物車次數\n",
    "6. 開始結帳次數\n",
    "7. 購買次數\n"
   ]
  },
  {
   "cell_type": "code",
   "execution_count": null,
   "metadata": {},
   "outputs": [],
   "source": [
    "Behavior202102_df['HitDateTime'] = pd.to_datetime(Behavior202102_df['HitDateTime'])\n",
    "Behavior202102_df['EventTime'] = pd.to_datetime(Behavior202102_df['EventTime'])"
   ]
  },
  {
   "cell_type": "code",
   "execution_count": null,
   "metadata": {},
   "outputs": [],
   "source": [
    "Behavior202102_df.info()"
   ]
  },
  {
   "cell_type": "markdown",
   "metadata": {},
   "source": [
    "- 純訪客\n",
    "    - MemberId為空 & 有註冊行為的ID"
   ]
  },
  {
   "cell_type": "code",
   "execution_count": null,
   "metadata": {},
   "outputs": [],
   "source": [
    "Behavior202102_df = Behavior202102_df[(Behavior202102_df.MemberId.isna()) | (Behavior202102_df.Behavior == 'register')]"
   ]
  },
  {
   "cell_type": "markdown",
   "metadata": {},
   "source": [
    "- Section 數"
   ]
  },
  {
   "cell_type": "code",
   "execution_count": null,
   "metadata": {},
   "outputs": [],
   "source": [
    "sevtion_count = Behavior202102_df.groupby(['FullvisitorId'])['HitDateTime'].nunique()\n",
    "sevtion_count = sevtion_count.reset_index()\n",
    "sevtion_count"
   ]
  },
  {
   "cell_type": "markdown",
   "metadata": {},
   "source": [
    "- Section平均時長"
   ]
  },
  {
   "cell_type": "code",
   "execution_count": null,
   "metadata": {},
   "outputs": [],
   "source": [
    "section_time = Behavior202102_df.groupby(['FullvisitorId', 'HitDateTime'])['EventTime'].max() - Behavior202102_df.groupby(['FullvisitorId', 'HitDateTime'])['EventTime'].min()\n",
    "section_avgtime = section_time.reset_index().groupby('FullvisitorId')['EventTime'].mean()\n",
    "section_avgtime"
   ]
  },
  {
   "cell_type": "markdown",
   "metadata": {},
   "source": [
    "- 瀏覽商品頁次數"
   ]
  },
  {
   "cell_type": "code",
   "execution_count": null,
   "metadata": {},
   "outputs": [],
   "source": [
    "viewproduct_times = Behavior202102_df[Behavior202102_df['Behavior'] == 'viewproduct'].groupby(['FullvisitorId'])['Behavior'].value_counts()\n",
    "viewproduct_times.index = viewproduct_times.index.droplevel(1)\n",
    "viewproduct_times = viewproduct_times.reset_index()\n",
    "viewproduct_times.rename(columns={'Behavior' : 'viewproduct'}, inplace=True)\n",
    "viewproduct_times"
   ]
  },
  {
   "cell_type": "markdown",
   "metadata": {},
   "source": [
    "- 搜尋次數"
   ]
  },
  {
   "cell_type": "code",
   "execution_count": null,
   "metadata": {},
   "outputs": [],
   "source": [
    "search_times = Behavior202102_df[Behavior202102_df['Behavior'] == 'search'].groupby('FullvisitorId')['Behavior'].count().reset_index()\n",
    "search_times.rename(columns={'Behavior': 'search'}, inplace=True)\n",
    "search_times"
   ]
  },
  {
   "cell_type": "markdown",
   "metadata": {},
   "source": [
    "- 優惠瀏覽次數"
   ]
  },
  {
   "cell_type": "code",
   "execution_count": null,
   "metadata": {},
   "outputs": [],
   "source": [
    "coupon_times = Behavior202102_df[(Behavior202102_df['Behavior'] == 'viewecoupondetail') | (Behavior202102_df['Behavior'] == 'viewpromotiondetail') | (Behavior202102_df['Behavior'] == 'viewcoupondetail')].groupby(['FullvisitorId'])['Behavior'].count().reset_index()\n",
    "coupon_times.rename(columns={'Behavior': 'viewcoupon'}, inplace=True)\n",
    "coupon_times"
   ]
  },
  {
   "cell_type": "markdown",
   "metadata": {},
   "source": [
    "- 加入購物車次數"
   ]
  },
  {
   "cell_type": "code",
   "execution_count": null,
   "metadata": {},
   "outputs": [],
   "source": [
    "add_times = Behavior202102_df[Behavior202102_df['Behavior'] == 'add'].groupby('FullvisitorId')['Behavior'].count().reset_index()\n",
    "add_times.rename(columns={'Behavior': 'add'}, inplace=True)\n",
    "add_times"
   ]
  },
  {
   "cell_type": "markdown",
   "metadata": {},
   "source": [
    "- 開始結帳次數"
   ]
  },
  {
   "cell_type": "code",
   "execution_count": null,
   "metadata": {},
   "outputs": [],
   "source": [
    "checkout_times = Behavior202102_df[Behavior202102_df['Behavior'] == 'checkout'].groupby('FullvisitorId')['Behavior'].count().reset_index()\n",
    "checkout_times.rename(columns={'Behavior': 'checkout'}, inplace=True)\n",
    "checkout_times"
   ]
  },
  {
   "cell_type": "markdown",
   "metadata": {},
   "source": [
    "- 購買次數"
   ]
  },
  {
   "cell_type": "code",
   "execution_count": null,
   "metadata": {},
   "outputs": [],
   "source": [
    "purchase_times = Behavior202102_df[Behavior202102_df['Behavior'] == 'purchase'].groupby('FullvisitorId')['Behavior'].count().reset_index()\n",
    "purchase_times.rename(columns={'Behavior': 'purchase'}, inplace=True)\n",
    "purchase_times"
   ]
  },
  {
   "cell_type": "markdown",
   "metadata": {},
   "source": [
    "# 彙整資料框"
   ]
  },
  {
   "cell_type": "code",
   "execution_count": null,
   "metadata": {},
   "outputs": [],
   "source": [
    "df = sevtion_count.join(section_avgtime, on='FullvisitorId')\n",
    "df = df.merge(viewproduct_times, on='FullvisitorId', how='left')\n",
    "df = df.merge(coupon_times, on='FullvisitorId', how='left')\n",
    "df = df.merge(add_times, on='FullvisitorId', how='left')\n",
    "df = df.merge(purchase_times, on='FullvisitorId', how='left')\n",
    "df = df.merge(checkout_times, on='FullvisitorId', how='left')\n",
    "df = df.merge(search_times, on='FullvisitorId', how='left')\n",
    "\n",
    "df.rename(columns={'HitDateTime': 'section_count', 'EventTime': 'section_time'}, inplace=True)\n",
    "\n",
    "# 將timedelta64轉成以秒為單位的int\n",
    "df.section_time = (df.section_time / np.timedelta64(1,'s')).astype(int)\n",
    "df.info()"
   ]
  },
  {
   "cell_type": "code",
   "execution_count": null,
   "metadata": {},
   "outputs": [],
   "source": [
    "# 以0填充na\n",
    "df = df.fillna(0)"
   ]
  },
  {
   "cell_type": "code",
   "execution_count": null,
   "metadata": {},
   "outputs": [],
   "source": [
    "# 移除section_count異常\n",
    "df = df[df.section_count < 200]\n",
    "# 移除section_time異常\n",
    "df = df[df.section_time < 10000]\n"
   ]
  },
  {
   "cell_type": "markdown",
   "metadata": {},
   "source": [
    "# K-means分群"
   ]
  },
  {
   "cell_type": "code",
   "execution_count": null,
   "metadata": {},
   "outputs": [],
   "source": [
    "k_means_df = df.iloc[:,1:]"
   ]
  },
  {
   "cell_type": "code",
   "execution_count": null,
   "metadata": {},
   "outputs": [],
   "source": [
    "from sklearn.cluster import KMeans\n",
    "sse = {}\n",
    "for k in range(1, 11):\n",
    "    kmeans = KMeans(n_clusters=k, random_state=17)\n",
    "    kmeans.fit(k_means_df)\n",
    "    sse[k] = kmeans.inertia_\n"
   ]
  },
  {
   "cell_type": "code",
   "execution_count": null,
   "metadata": {},
   "outputs": [],
   "source": [
    "import seaborn as sns\n",
    "from matplotlib import pyplot as plt\n",
    "plt.title('The Elbow Method')\n",
    "plt.xlabel('k'); plt.ylabel('SSE')\n",
    "sns.pointplot(x=list(sse.keys()), y=list(sse.values()))\n",
    "plt.show()"
   ]
  },
  {
   "cell_type": "code",
   "execution_count": null,
   "metadata": {},
   "outputs": [],
   "source": [
    "# 將30天內有註冊成會員的ID篩選出來\n",
    "registor = Behavior202102_df[Behavior202102_df.Behavior == 'register'][['FullvisitorId']]\n",
    "registor['register'] = 1"
   ]
  },
  {
   "cell_type": "code",
   "execution_count": null,
   "metadata": {},
   "outputs": [],
   "source": [
    "from sklearn.preprocessing import MinMaxScaler\n",
    "#正規化\n",
    "Min_Max_Scaler = MinMaxScaler( feature_range=(0,1) ) # 設定縮放的區間上下限\n",
    "MinMax_Data = Min_Max_Scaler.fit_transform( k_means_df ) # Data 為原始資料\n",
    "\n",
    "#分群中心\n",
    "kmeans = KMeans(n_clusters=3, init='k-means++', random_state=0)\n",
    "kmeans_fit = kmeans.fit_predict(MinMax_Data)\n",
    "print(round(pd.DataFrame(kmeans.cluster_centers_),4))\n",
    "print(kmeans.inertia_)\n",
    "df2 = pd.DataFrame(kmeans_fit, columns=['label'])\n",
    "df['label'] = df2\n",
    "\n",
    "# MAP到分群結果\n",
    "df = df.merge(registor, on='FullvisitorId', how='left')\n",
    "df = df.fillna(0)\n",
    "df.rename(columns={'register_y':'register'}, inplace=True)\n",
    "\n",
    "#各分群的註冊率\n",
    "for i in range(3):\n",
    "    num_regiser=df[(df.label == i)]['register'].sum()\n",
    "    num_label=df[(df.label == i)]['FullvisitorId'].count()\n",
    "    print(num_regiser,num_label,num_regiser/num_label)\n",
    "#各分群的購買率\n",
    "print('------------------------------------------')\n",
    "for i in range(3):\n",
    "    num_purchas=df[(df.label == i)]['purchase'].sum()\n",
    "    num_label=df[(df.label == i)]['FullvisitorId'].count()\n",
    "    print(num_purchas,num_label,num_purchas/num_label)"
   ]
  },
  {
   "cell_type": "code",
   "execution_count": null,
   "metadata": {},
   "outputs": [],
   "source": [
    "df.label.value_counts()"
   ]
  },
  {
   "cell_type": "markdown",
   "metadata": {},
   "source": [
    "- 分群特徵平均\n",
    "    - 0: 非活躍訪客\n",
    "    - 1: 機會訪客\n",
    "    - 2: 活躍訪客"
   ]
  },
  {
   "cell_type": "code",
   "execution_count": null,
   "metadata": {},
   "outputs": [],
   "source": [
    "df.groupby(['label']).agg({'section_count': 'mean', 'section_time': 'mean', 'viewproduct': 'mean', 'viewcoupon': 'mean', 'add': 'mean', 'purchase': 'mean', 'checkout': 'mean', 'search': 'mean'})"
   ]
  },
  {
   "cell_type": "markdown",
   "metadata": {},
   "source": [
    "- 相對重要性"
   ]
  },
  {
   "cell_type": "code",
   "execution_count": null,
   "metadata": {},
   "outputs": [],
   "source": [
    "cluster_avg = df.groupby(['Cluster']).mean()\n",
    "population_avg = df.mean()\n",
    "relative_imp = cluster_avg / population_avg - 1"
   ]
  },
  {
   "cell_type": "code",
   "execution_count": null,
   "metadata": {},
   "outputs": [],
   "source": [
    "relative_imp.round(2)"
   ]
  },
  {
   "cell_type": "code",
   "execution_count": null,
   "metadata": {},
   "outputs": [],
   "source": [
    "# Plot heatmap\n",
    "plt.figure(figsize=(8, 2))\n",
    "plt.title('Relative importance of attributes')\n",
    "sns.heatmap(data=relative_imp, annot=True, fmt='.2f', cmap='RdYlGn')\n",
    "plt.show()"
   ]
  },
  {
   "cell_type": "markdown",
   "metadata": {},
   "source": [
    "# 純訪客的各分群成效\n",
    "    會員註冊率"
   ]
  },
  {
   "cell_type": "markdown",
   "metadata": {},
   "source": [
    "- 註冊會員"
   ]
  },
  {
   "cell_type": "code",
   "execution_count": null,
   "metadata": {},
   "outputs": [],
   "source": [
    "# 分群成效\n",
    "register_cluster = df.groupby('label').register.value_counts().unstack()\n",
    "register_cluster\n",
    "register_cluster['registor_rate'] = register_cluster[1] / register_cluster[0]\n",
    "register_cluster"
   ]
  },
  {
   "cell_type": "markdown",
   "metadata": {},
   "source": [
    "# 201806的整理、分析方法大同小異，附在另一個檔案上"
   ]
  }
 ],
 "metadata": {
  "kernelspec": {
   "display_name": "Python 3.9.12 ('Infinite')",
   "language": "python",
   "name": "python3"
  },
  "language_info": {
   "codemirror_mode": {
    "name": "ipython",
    "version": 3
   },
   "file_extension": ".py",
   "mimetype": "text/x-python",
   "name": "python",
   "nbconvert_exporter": "python",
   "pygments_lexer": "ipython3",
   "version": "3.9.12"
  },
  "orig_nbformat": 4,
  "vscode": {
   "interpreter": {
    "hash": "5b2e139960822df9bcd8a1ff53924caadde8a0e7590a89e246ad77214aeb491c"
   }
  }
 },
 "nbformat": 4,
 "nbformat_minor": 2
}
