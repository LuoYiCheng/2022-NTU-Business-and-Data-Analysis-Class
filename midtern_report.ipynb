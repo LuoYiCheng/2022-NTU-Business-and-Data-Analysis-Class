{
 "cells": [
  {
   "cell_type": "markdown",
   "metadata": {},
   "source": [
    "# 大數據與商業分析\n",
    "    內容分析：預測股價漲跌\n",
    "    資料年分：2019 - 2021\n",
    "    採用資料：上市股票，以及新聞報導語料"
   ]
  },
  {
   "cell_type": "markdown",
   "metadata": {},
   "source": [
    "# 匯入股票漲跌資料集\n",
    "- 共781778筆"
   ]
  },
  {
   "cell_type": "code",
   "execution_count": 2,
   "metadata": {},
   "outputs": [
    {
     "data": {
      "text/plain": [
       "781778"
      ]
     },
     "execution_count": 2,
     "metadata": {},
     "output_type": "execute_result"
    }
   ],
   "source": [
    "import pandas as pd\n",
    "import datetime\n",
    "pd.options.mode.chained_assignment = None\n",
    "\n",
    "df_stocks = pd.DataFrame()\n",
    "files = [r'.\\上市2021.csv', r'.\\上市2020.csv', r'.\\上市2019.csv']\n",
    "for file in files:\n",
    "    with open(file, newline='', encoding=\"utf-8\") as csvfile:\n",
    "        use_cols = [0, 1, 5]\n",
    "        df = pd.read_csv(csvfile, usecols=use_cols,\n",
    "                             names=['name', 'date', 'price'],\n",
    "                             header=0,\n",
    "                             parse_dates=['date'],\n",
    "                             index_col='date')\n",
    "    df_stocks = pd.concat([df_stocks, df], axis=0)    \n",
    "\n",
    "# Sorted by 'date'\n",
    "df_stocks = df_stocks.sort_values(\"date\", ascending=True)\n",
    "\n",
    "len(df_stocks)"
   ]
  },
  {
   "cell_type": "markdown",
   "metadata": {},
   "source": [
    "# 匯入新聞報導資料集\n",
    "- 共587392筆"
   ]
  },
  {
   "cell_type": "code",
   "execution_count": 3,
   "metadata": {},
   "outputs": [
    {
     "data": {
      "text/plain": [
       "587392"
      ]
     },
     "execution_count": 3,
     "metadata": {},
     "output_type": "execute_result"
    }
   ],
   "source": [
    "df_news = pd.DataFrame()\n",
    "files = [r'.\\news_2021.csv', r'.\\news_2020.csv', r'.\\news_2019.csv']\n",
    "for file in files:\n",
    "    with open(file, newline='', encoding=\"utf-8\") as csvfile:\n",
    "        use_cols = [4, 5, 7]\n",
    "        df = pd.read_csv(csvfile, usecols=use_cols,\n",
    "                             names=['date', 'title', 'text'],\n",
    "                             header=0,\n",
    "                             parse_dates=['date'],\n",
    "                             index_col='date')\n",
    "    df_news = pd.concat([df_news, df], axis=0)    \n",
    "\n",
    "# Sorted by 'date'\n",
    "df_news = df_news.sort_values(\"date\", ascending=True)\n",
    "\n",
    "# title 和 text 合併\n",
    "df_news['content'] = df_news[\"title\"] + \" \" + df_news[\"text\"]\n",
    "\n",
    "# 刪除原本欄位\n",
    "df_news = df_news.drop(columns=['title', 'text'])\n",
    "\n",
    "len(df_news)"
   ]
  },
  {
   "cell_type": "code",
   "execution_count": 4,
   "metadata": {},
   "outputs": [
    {
     "data": {
      "text/plain": [
       "content    0\n",
       "dtype: int64"
      ]
     },
     "execution_count": 4,
     "metadata": {},
     "output_type": "execute_result"
    }
   ],
   "source": [
    "# 移除39篇空白報導\n",
    "df_news.dropna(inplace=True)\n",
    "df_news.isna().sum()"
   ]
  },
  {
   "cell_type": "code",
   "execution_count": 5,
   "metadata": {},
   "outputs": [],
   "source": [
    "# 只取年月日的時間格式\n",
    "df_stocks.index = pd.to_datetime(df_stocks.index.date)\n",
    "df_news.index = pd.to_datetime(df_news.index.date)"
   ]
  },
  {
   "cell_type": "markdown",
   "metadata": {},
   "source": [
    "# 篩選出我們感興趣的股票的漲跌資料與報導\n",
    "    選定「聯電」作為標的\n",
    "    第D+1天與第D天相比，股價或指數漲跌超過幅度σ=1%，標記為漲或跌"
   ]
  },
  {
   "cell_type": "markdown",
   "metadata": {},
   "source": [
    "2019 - 2021年為止，共有731個交易日"
   ]
  },
  {
   "cell_type": "code",
   "execution_count": 6,
   "metadata": {},
   "outputs": [
    {
     "name": "stdout",
     "output_type": "stream",
     "text": [
      "共有11075篇聯電相關報導\n"
     ]
    }
   ],
   "source": [
    "# 篩選股票漲跌資料\n",
    "interest_stocks = '聯電'\n",
    "df_IS = df_stocks[df_stocks['name'].str.contains(interest_stocks)]\n",
    "\n",
    "# 篩選相關報導\n",
    "df_IN = df_news[df_news['content'].str.contains(interest_stocks)]\n",
    "print('共有{}篇{}相關報導'.format(len(df_IN), interest_stocks))\n",
    "\n",
    "# 將price欄位轉成float，以便進行漲跌幅運算\n",
    "df_IS['price'] = df_IS['price'].astype('float')"
   ]
  },
  {
   "cell_type": "markdown",
   "metadata": {},
   "source": [
    "# 斷詞處理\n",
    "    將結果匯出成df_2303.csv"
   ]
  },
  {
   "cell_type": "code",
   "execution_count": 7,
   "metadata": {},
   "outputs": [
    {
     "name": "stdout",
     "output_type": "stream",
     "text": [
      "+---------------------------------------------------------------------+\n",
      "  Welcome to MONPA: Multi-Objective NER POS Annotator for Chinese\n",
      "+---------------------------------------------------------------------+\n",
      "已找到 model檔。Found model file.\n"
     ]
    }
   ],
   "source": [
    "import monpa\n",
    "from monpa import utils\n",
    "import re"
   ]
  },
  {
   "cell_type": "code",
   "execution_count": 8,
   "metadata": {},
   "outputs": [],
   "source": [
    "# 這個function用來將字串以正則化處理去除中文字元以外的字元\n",
    "def clearSentence(sentence):\n",
    "    return re.sub(r'[^\\u4e00-\\u9fa5]+', '', sentence)\n",
    "\n",
    "# 我們從stopwords_zh.txt這個檔案中匯入繁體中文的停用詞\n",
    "with open('stopwords_zh.txt', 'r') as file:\n",
    "    stopwords = file.read().splitlines() \n",
    "file.close()"
   ]
  },
  {
   "cell_type": "code",
   "execution_count": 9,
   "metadata": {},
   "outputs": [],
   "source": [
    "# # 斷詞處理\n",
    "# tokenStr_list = []\n",
    "# for document in df_IN['content']:\n",
    "#     sentence_list = utils.short_sentence(document)\n",
    "#     tokenStr = str()\n",
    "#     for sentence in sentence_list:\n",
    "#         sentence = clearSentence(sentence)\n",
    "#         tokens = monpa.cut(sentence)\n",
    "#         tokens = filter(lambda x: len(x) < 6, tokens)\n",
    "#         tokenStr += ' '.join(tokens)\n",
    "#     tokenStr_list.append(tokenStr)\n",
    "\n",
    "# pd.DataFrame(tokenStr_list).to_csv('df_2303.csv')"
   ]
  },
  {
   "cell_type": "markdown",
   "metadata": {},
   "source": [
    "- 中研院CKIPTAGGER斷詞"
   ]
  },
  {
   "cell_type": "code",
   "execution_count": 10,
   "metadata": {},
   "outputs": [],
   "source": [
    "# from ckiptagger import data_utils, construct_dictionary, WS, POS, NER\n",
    "\n",
    "# # 使用 CPU：\n",
    "# ws = WS(\"./data\")\n",
    "# pos = POS(\"./data\")\n",
    "# ner = NER(\"./data\")\n",
    "\n",
    "# word_to_weight = {\n",
    "#     \"買超\": 2,\n",
    "#     \"賣超\": 2,\n",
    "#     \"上漲\": 2,\n",
    "#     \"下殺\": 2,\n",
    "#     \"下跌\": 2,\n",
    "#     \"跌破\": 2,\n",
    "#     '突破': 2,\n",
    "#     '衝擊': 2,\n",
    "#     '走弱': 2,\n",
    "#     '受挫': 2,\n",
    "#     '利多': 2,\n",
    "#     '漲': 2,\n",
    "#     '跌': 2,\n",
    "#     '重挫': 3,\n",
    "#     '大漲': 3,\n",
    "#     '衝擊': 2\n",
    "# }\n",
    "# dictionary = construct_dictionary(word_to_weight)\n",
    "# print(dictionary)\n",
    "\n",
    "# word_sentence_list = ws(\n",
    "#     sentence_list,\n",
    "#     # sentence_segmentation = True, # To consider delimiters\n",
    "#     # segment_delimiter_set = {\",\", \"。\", \":\", \"?\", \"!\", \";\"}), # This is the defualt set of delimiters\n",
    "#     recommend_dictionary = dictionary, # words in this dictionary are encouraged\n",
    "#     # coerce_dictionary = dictionary2, # words in this dictionary are forced\n",
    "# )\n",
    "# pd.DataFrame(word_sentence_list).to_csv('df_2303_ckip.csv')"
   ]
  },
  {
   "cell_type": "code",
   "execution_count": 9,
   "metadata": {},
   "outputs": [],
   "source": [
    "# 先將df_IN的index存下來\n",
    "IN_index = df_IN.index"
   ]
  },
  {
   "cell_type": "markdown",
   "metadata": {},
   "source": [
    "- 讀入斷詞後的報導文章"
   ]
  },
  {
   "cell_type": "markdown",
   "metadata": {},
   "source": [
    "- CKIP"
   ]
  },
  {
   "cell_type": "code",
   "execution_count": 12,
   "metadata": {},
   "outputs": [],
   "source": [
    "# import pandas as pd\n",
    "# tokenStr_list = []\n",
    "# with open(r'.\\df_2303_ckip.csv', newline='', encoding=\"utf-8\") as csvfile:\n",
    "#     df_IN = pd.read_csv(csvfile, header=0)\n",
    "\n",
    "# df_IN.drop('Unnamed: 0', axis=1, inplace=True)"
   ]
  },
  {
   "cell_type": "code",
   "execution_count": 13,
   "metadata": {},
   "outputs": [],
   "source": [
    "# nan_value = float(\"NaN\")\n",
    "# df_IN.replace(nan_value, '', inplace=True)\n",
    "# df_IN = df_IN.applymap(str)\n",
    "# df_IN = df_IN.applymap(clearSentence)\n",
    "# df_IN = df_IN[df_IN.columns.values].apply(' '.join, axis=1)\n",
    "# df_IN = pd.DataFrame(df_IN, columns=['content'])"
   ]
  },
  {
   "cell_type": "markdown",
   "metadata": {},
   "source": [
    "- monpa"
   ]
  },
  {
   "cell_type": "code",
   "execution_count": 10,
   "metadata": {},
   "outputs": [
    {
     "data": {
      "text/html": [
       "<div>\n",
       "<style scoped>\n",
       "    .dataframe tbody tr th:only-of-type {\n",
       "        vertical-align: middle;\n",
       "    }\n",
       "\n",
       "    .dataframe tbody tr th {\n",
       "        vertical-align: top;\n",
       "    }\n",
       "\n",
       "    .dataframe thead th {\n",
       "        text-align: right;\n",
       "    }\n",
       "</style>\n",
       "<table border=\"1\" class=\"dataframe\">\n",
       "  <thead>\n",
       "    <tr style=\"text-align: right;\">\n",
       "      <th></th>\n",
       "      <th>content</th>\n",
       "    </tr>\n",
       "  </thead>\n",
       "  <tbody>\n",
       "    <tr>\n",
       "      <th>2019-01-01</th>\n",
       "      <td>聯電日 上漲 美元 漲幅 折 台股 元中央社 台北 在 掛牌 以 美元 作收 上漲 美元 漲...</td>\n",
       "    </tr>\n",
       "    <tr>\n",
       "      <th>2019-01-02</th>\n",
       "      <td>熱門 族群 缺貨潮 延燒 族群 漲相佳 缺貨潮 發燒 至 年金氧 半 場效 電晶體 族群 漲...</td>\n",
       "    </tr>\n",
       "    <tr>\n",
       "      <th>2019-01-02</th>\n",
       "      <td>上市 外資 賣 超 排行 前名名次 股票 名稱 買賣 超 張數 收盤價 漲跌 元 大 台灣 ...</td>\n",
       "    </tr>\n",
       "    <tr>\n",
       "      <th>2019-01-02</th>\n",
       "      <td>台積電 等 家 收盤 報價 簡訊 收盤 漲跌 漲跌幅 換股 率 換算 價台 收盤 溢 折價 ...</td>\n",
       "    </tr>\n",
       "    <tr>\n",
       "      <th>2019-01-02</th>\n",
       "      <td>聯電 週一 收 美元 上漲 美元 或 折合 台幣 每 股 約 元 聯電 在 紐約交易所 掛牌...</td>\n",
       "    </tr>\n",
       "    <tr>\n",
       "      <th>...</th>\n",
       "      <td>...</td>\n",
       "    </tr>\n",
       "    <tr>\n",
       "      <th>2021-12-31</th>\n",
       "      <td>聯電 日 下跌 美元 跌幅 折 台股 元中央社 台北 在 掛牌 以 美元 作收 下跌 美元 ...</td>\n",
       "    </tr>\n",
       "    <tr>\n",
       "      <th>2021-12-31</th>\n",
       "      <td>半導體 產業 年 可望 再 創 新高美 中 緊張 關係 持續 中央社 記者 張建中 新竹 年...</td>\n",
       "    </tr>\n",
       "    <tr>\n",
       "      <th>2021-12-31</th>\n",
       "      <td>熱門 族群檔 飆股 出列 最 牛時報 台北 電年 台股 就 是 狂 上市 大漲 股票 市值 ...</td>\n",
       "    </tr>\n",
       "    <tr>\n",
       "      <th>2021-12-31</th>\n",
       "      <td>台北 股市 盤點 年度 飆股 黑馬 是 它 時報 台北 電 年 台股 以 萬八 之 姿 完美...</td>\n",
       "    </tr>\n",
       "    <tr>\n",
       "      <th>2021-12-31</th>\n",
       "      <td>台北 股市 外資 回補 台積列車 啟動 時報 台北電 台股 年 最後 一 個 交易日盤 中 ...</td>\n",
       "    </tr>\n",
       "  </tbody>\n",
       "</table>\n",
       "<p>11075 rows × 1 columns</p>\n",
       "</div>"
      ],
      "text/plain": [
       "                                                      content\n",
       "2019-01-01  聯電日 上漲 美元 漲幅 折 台股 元中央社 台北 在 掛牌 以 美元 作收 上漲 美元 漲...\n",
       "2019-01-02  熱門 族群 缺貨潮 延燒 族群 漲相佳 缺貨潮 發燒 至 年金氧 半 場效 電晶體 族群 漲...\n",
       "2019-01-02  上市 外資 賣 超 排行 前名名次 股票 名稱 買賣 超 張數 收盤價 漲跌 元 大 台灣 ...\n",
       "2019-01-02  台積電 等 家 收盤 報價 簡訊 收盤 漲跌 漲跌幅 換股 率 換算 價台 收盤 溢 折價 ...\n",
       "2019-01-02  聯電 週一 收 美元 上漲 美元 或 折合 台幣 每 股 約 元 聯電 在 紐約交易所 掛牌...\n",
       "...                                                       ...\n",
       "2021-12-31  聯電 日 下跌 美元 跌幅 折 台股 元中央社 台北 在 掛牌 以 美元 作收 下跌 美元 ...\n",
       "2021-12-31  半導體 產業 年 可望 再 創 新高美 中 緊張 關係 持續 中央社 記者 張建中 新竹 年...\n",
       "2021-12-31  熱門 族群檔 飆股 出列 最 牛時報 台北 電年 台股 就 是 狂 上市 大漲 股票 市值 ...\n",
       "2021-12-31  台北 股市 盤點 年度 飆股 黑馬 是 它 時報 台北 電 年 台股 以 萬八 之 姿 完美...\n",
       "2021-12-31  台北 股市 外資 回補 台積列車 啟動 時報 台北電 台股 年 最後 一 個 交易日盤 中 ...\n",
       "\n",
       "[11075 rows x 1 columns]"
      ]
     },
     "execution_count": 10,
     "metadata": {},
     "output_type": "execute_result"
    }
   ],
   "source": [
    "import pandas as pd\n",
    "tokenStr_list = []\n",
    "with open(r'.\\df_2303.csv', newline='', encoding=\"utf-8\") as csvfile:\n",
    "    df_IN = pd.read_csv(csvfile, header=0, usecols=[1], names=['content'])\n",
    "\n",
    "# 將報導與日期對應\n",
    "df_IN.index = IN_index\n",
    "df_IN"
   ]
  },
  {
   "cell_type": "code",
   "execution_count": 11,
   "metadata": {},
   "outputs": [
    {
     "name": "stdout",
     "output_type": "stream",
     "text": [
      "移除重複報導:1210\n"
     ]
    }
   ],
   "source": [
    "# 移除重複報導\n",
    "print('移除重複報導:{}'.format(df_IN.duplicated().sum()))\n",
    "df_IN = df_IN.drop_duplicates()"
   ]
  },
  {
   "cell_type": "markdown",
   "metadata": {},
   "source": [
    "- 先計算D+1天的漲跌幅"
   ]
  },
  {
   "cell_type": "code",
   "execution_count": 12,
   "metadata": {},
   "outputs": [],
   "source": [
    "n = 1"
   ]
  },
  {
   "cell_type": "code",
   "execution_count": 13,
   "metadata": {},
   "outputs": [
    {
     "data": {
      "text/plain": [
       "730"
      ]
     },
     "execution_count": 13,
     "metadata": {},
     "output_type": "execute_result"
    }
   ],
   "source": [
    "df_IS['return'] = df_IS['price'].pct_change(n)\n",
    "\n",
    "# 紀錄n日後的真實漲跌\n",
    "df_IS['updown'] = df_IS['return'].apply(lambda x: '漲' if x > 0 else '跌')\n",
    "\n",
    "# 移除因日期移動而無法知道漲幅的日期\n",
    "df_IS.dropna(inplace=True)\n",
    "len(df_IS)\n",
    "# 730"
   ]
  },
  {
   "cell_type": "markdown",
   "metadata": {},
   "source": [
    "- 漲跌圖"
   ]
  },
  {
   "cell_type": "code",
   "execution_count": 14,
   "metadata": {},
   "outputs": [
    {
     "data": {
      "image/png": "[encoded data removed]",
      "text/plain": [
       "<Figure size 432x288 with 1 Axes>"
      ]
     },
     "metadata": {
      "needs_background": "light"
     },
     "output_type": "display_data"
    }
   ],
   "source": [
    "import matplotlib.pyplot as plt\n",
    "df_IS['price'].plot()\n",
    "plt.show()"
   ]
  },
  {
   "cell_type": "code",
   "execution_count": 15,
   "metadata": {},
   "outputs": [
    {
     "data": {
      "text/plain": [
       "漲    366\n",
       "跌    364\n",
       "Name: updown, dtype: int64"
      ]
     },
     "execution_count": 15,
     "metadata": {},
     "output_type": "execute_result"
    }
   ],
   "source": [
    "# 觀察漲跌情況\n",
    "df_IS['updown'].value_counts()"
   ]
  },
  {
   "cell_type": "markdown",
   "metadata": {},
   "source": [
    "- 我們標記股價漲跌幅度超過1%的天數，選定D-3天的報導作為看漲報導集/看跌報導集"
   ]
  },
  {
   "cell_type": "code",
   "execution_count": 16,
   "metadata": {},
   "outputs": [],
   "source": [
    "up_sigma = 0.01\n",
    "down_sigma = 0.01"
   ]
  },
  {
   "cell_type": "code",
   "execution_count": 17,
   "metadata": {},
   "outputs": [
    {
     "data": {
      "text/plain": [
       "漲    232\n",
       "跌    203\n",
       "Name: label, dtype: int64"
      ]
     },
     "execution_count": 17,
     "metadata": {},
     "output_type": "execute_result"
    }
   ],
   "source": [
    "import numpy as np\n",
    "df_IS['label'] = df_IS['return'].apply(lambda x: '漲' if x >= up_sigma else ('跌' if x <= -down_sigma else np.nan))\n",
    "\n",
    "# 取出看漲與看跌之日期\n",
    "up_date = df_IS[df_IS['label']=='漲'].index - pd.Timedelta(days=n)\n",
    "down_date = df_IS[df_IS['label']=='跌'].index - pd.Timedelta(days=n)\n",
    "\n",
    "df_IS['label'].value_counts()"
   ]
  },
  {
   "cell_type": "markdown",
   "metadata": {},
   "source": [
    "- 看漲報導資料集與看跌報導資料集"
   ]
  },
  {
   "cell_type": "code",
   "execution_count": 18,
   "metadata": {},
   "outputs": [
    {
     "name": "stdout",
     "output_type": "stream",
     "text": [
      "看漲報導數：2344\n",
      "看跌報導數：2304\n"
     ]
    }
   ],
   "source": [
    "df_IN_up = df_IN[df_IN.index.isin(up_date)]\n",
    "df_IN_down = df_IN[df_IN.index.isin(down_date)]\n",
    "\n",
    "# 標註資料\n",
    "df_IN_up['label'] = '漲'\n",
    "df_IN_down['label'] = '跌'\n",
    "\n",
    "print('看漲報導數：{}'.format(len(df_IN_up)))\n",
    "print('看跌報導數：{}'.format(len(df_IN_down)))\n",
    "\n",
    "# 臨界值\n",
    "threshold_rate = len(df_IN_up)/len(df_IN_down)"
   ]
  },
  {
   "cell_type": "code",
   "execution_count": 19,
   "metadata": {},
   "outputs": [
    {
     "data": {
      "text/plain": [
       "4648"
      ]
     },
     "execution_count": 19,
     "metadata": {},
     "output_type": "execute_result"
    }
   ],
   "source": [
    "df_IN_updown = pd.concat([df_IN_up, df_IN_down]).sort_index()\n",
    "len(df_IN_updown)"
   ]
  },
  {
   "cell_type": "markdown",
   "metadata": {},
   "source": [
    "# Requirement(1)\n",
    "    建構向量空間\n",
    "    選出特徵詞\n"
   ]
  },
  {
   "cell_type": "code",
   "execution_count": 20,
   "metadata": {},
   "outputs": [],
   "source": [
    "from sklearn.feature_extraction.text import TfidfVectorizer\n",
    "from sklearn.feature_selection import SelectKBest\n",
    "from sklearn.feature_selection import chi2, mutual_info_classif"
   ]
  },
  {
   "cell_type": "code",
   "execution_count": 21,
   "metadata": {},
   "outputs": [
    {
     "name": "stderr",
     "output_type": "stream",
     "text": [
      "C:\\Users\\Yicheng\\anaconda3\\lib\\site-packages\\sklearn\\feature_extraction\\text.py:388: UserWarning: Your stop_words may be inconsistent with your preprocessing. Tokenizing the stop words generated tokens ['lex'] not in stop_words.\n",
      "  warnings.warn('Your stop_words may be inconsistent with '\n"
     ]
    }
   ],
   "source": [
    "vectorizer = TfidfVectorizer(stop_words=stopwords)\n",
    "tokens_vec = vectorizer.fit_transform(df_IN_updown['content'].values)\n",
    "df_vec = pd.DataFrame(tokens_vec.toarray(),columns=vectorizer.get_feature_names())"
   ]
  },
  {
   "cell_type": "code",
   "execution_count": 35,
   "metadata": {},
   "outputs": [
    {
     "name": "stdout",
     "output_type": "stream",
     "text": [
      "2393\n"
     ]
    },
    {
     "data": {
      "text/html": [
       "<div>\n",
       "<style scoped>\n",
       "    .dataframe tbody tr th:only-of-type {\n",
       "        vertical-align: middle;\n",
       "    }\n",
       "\n",
       "    .dataframe tbody tr th {\n",
       "        vertical-align: top;\n",
       "    }\n",
       "\n",
       "    .dataframe thead th {\n",
       "        text-align: right;\n",
       "    }\n",
       "</style>\n",
       "<table border=\"1\" class=\"dataframe\">\n",
       "  <thead>\n",
       "    <tr style=\"text-align: right;\">\n",
       "      <th></th>\n",
       "      <th>丁景隆</th>\n",
       "      <th>丁腈</th>\n",
       "      <th>丈夫</th>\n",
       "      <th>上下檔</th>\n",
       "      <th>上下游</th>\n",
       "      <th>上下而</th>\n",
       "      <th>上不過</th>\n",
       "      <th>上世紀</th>\n",
       "      <th>上中石化</th>\n",
       "      <th>上交所</th>\n",
       "      <th>...</th>\n",
       "      <th>龍頭高通</th>\n",
       "      <th>龍鳳宮</th>\n",
       "      <th>龐大</th>\n",
       "      <th>龐德明</th>\n",
       "      <th>龐皮歐</th>\n",
       "      <th>龔培元</th>\n",
       "      <th>龔明鑫</th>\n",
       "      <th>龔明鑫日</th>\n",
       "      <th>龜山</th>\n",
       "      <th>龜田郡</th>\n",
       "    </tr>\n",
       "  </thead>\n",
       "  <tbody>\n",
       "    <tr>\n",
       "      <th>0</th>\n",
       "      <td>0.0</td>\n",
       "      <td>0.0</td>\n",
       "      <td>0.0</td>\n",
       "      <td>0.0</td>\n",
       "      <td>0.0</td>\n",
       "      <td>0.0</td>\n",
       "      <td>0.0</td>\n",
       "      <td>0.0</td>\n",
       "      <td>0.0</td>\n",
       "      <td>0.0</td>\n",
       "      <td>...</td>\n",
       "      <td>0.0</td>\n",
       "      <td>0.0</td>\n",
       "      <td>0.0</td>\n",
       "      <td>0.0</td>\n",
       "      <td>0.0</td>\n",
       "      <td>0.0</td>\n",
       "      <td>0.0</td>\n",
       "      <td>0.0</td>\n",
       "      <td>0.0</td>\n",
       "      <td>0.0</td>\n",
       "    </tr>\n",
       "    <tr>\n",
       "      <th>1</th>\n",
       "      <td>0.0</td>\n",
       "      <td>0.0</td>\n",
       "      <td>0.0</td>\n",
       "      <td>0.0</td>\n",
       "      <td>0.0</td>\n",
       "      <td>0.0</td>\n",
       "      <td>0.0</td>\n",
       "      <td>0.0</td>\n",
       "      <td>0.0</td>\n",
       "      <td>0.0</td>\n",
       "      <td>...</td>\n",
       "      <td>0.0</td>\n",
       "      <td>0.0</td>\n",
       "      <td>0.0</td>\n",
       "      <td>0.0</td>\n",
       "      <td>0.0</td>\n",
       "      <td>0.0</td>\n",
       "      <td>0.0</td>\n",
       "      <td>0.0</td>\n",
       "      <td>0.0</td>\n",
       "      <td>0.0</td>\n",
       "    </tr>\n",
       "    <tr>\n",
       "      <th>2</th>\n",
       "      <td>0.0</td>\n",
       "      <td>0.0</td>\n",
       "      <td>0.0</td>\n",
       "      <td>0.0</td>\n",
       "      <td>0.0</td>\n",
       "      <td>0.0</td>\n",
       "      <td>0.0</td>\n",
       "      <td>0.0</td>\n",
       "      <td>0.0</td>\n",
       "      <td>0.0</td>\n",
       "      <td>...</td>\n",
       "      <td>0.0</td>\n",
       "      <td>0.0</td>\n",
       "      <td>0.0</td>\n",
       "      <td>0.0</td>\n",
       "      <td>0.0</td>\n",
       "      <td>0.0</td>\n",
       "      <td>0.0</td>\n",
       "      <td>0.0</td>\n",
       "      <td>0.0</td>\n",
       "      <td>0.0</td>\n",
       "    </tr>\n",
       "    <tr>\n",
       "      <th>3</th>\n",
       "      <td>0.0</td>\n",
       "      <td>0.0</td>\n",
       "      <td>0.0</td>\n",
       "      <td>0.0</td>\n",
       "      <td>0.0</td>\n",
       "      <td>0.0</td>\n",
       "      <td>0.0</td>\n",
       "      <td>0.0</td>\n",
       "      <td>0.0</td>\n",
       "      <td>0.0</td>\n",
       "      <td>...</td>\n",
       "      <td>0.0</td>\n",
       "      <td>0.0</td>\n",
       "      <td>0.0</td>\n",
       "      <td>0.0</td>\n",
       "      <td>0.0</td>\n",
       "      <td>0.0</td>\n",
       "      <td>0.0</td>\n",
       "      <td>0.0</td>\n",
       "      <td>0.0</td>\n",
       "      <td>0.0</td>\n",
       "    </tr>\n",
       "    <tr>\n",
       "      <th>4</th>\n",
       "      <td>0.0</td>\n",
       "      <td>0.0</td>\n",
       "      <td>0.0</td>\n",
       "      <td>0.0</td>\n",
       "      <td>0.0</td>\n",
       "      <td>0.0</td>\n",
       "      <td>0.0</td>\n",
       "      <td>0.0</td>\n",
       "      <td>0.0</td>\n",
       "      <td>0.0</td>\n",
       "      <td>...</td>\n",
       "      <td>0.0</td>\n",
       "      <td>0.0</td>\n",
       "      <td>0.0</td>\n",
       "      <td>0.0</td>\n",
       "      <td>0.0</td>\n",
       "      <td>0.0</td>\n",
       "      <td>0.0</td>\n",
       "      <td>0.0</td>\n",
       "      <td>0.0</td>\n",
       "      <td>0.0</td>\n",
       "    </tr>\n",
       "  </tbody>\n",
       "</table>\n",
       "<p>5 rows × 65958 columns</p>\n",
       "</div>"
      ],
      "text/plain": [
       "   丁景隆   丁腈   丈夫  上下檔  上下游  上下而  上不過  上世紀  上中石化  上交所  ...  龍頭高通  龍鳳宮   龐大  \\\n",
       "0  0.0  0.0  0.0  0.0  0.0  0.0  0.0  0.0   0.0  0.0  ...   0.0  0.0  0.0   \n",
       "1  0.0  0.0  0.0  0.0  0.0  0.0  0.0  0.0   0.0  0.0  ...   0.0  0.0  0.0   \n",
       "2  0.0  0.0  0.0  0.0  0.0  0.0  0.0  0.0   0.0  0.0  ...   0.0  0.0  0.0   \n",
       "3  0.0  0.0  0.0  0.0  0.0  0.0  0.0  0.0   0.0  0.0  ...   0.0  0.0  0.0   \n",
       "4  0.0  0.0  0.0  0.0  0.0  0.0  0.0  0.0   0.0  0.0  ...   0.0  0.0  0.0   \n",
       "\n",
       "   龐德明  龐皮歐  龔培元  龔明鑫  龔明鑫日   龜山  龜田郡  \n",
       "0  0.0  0.0  0.0  0.0   0.0  0.0  0.0  \n",
       "1  0.0  0.0  0.0  0.0   0.0  0.0  0.0  \n",
       "2  0.0  0.0  0.0  0.0   0.0  0.0  0.0  \n",
       "3  0.0  0.0  0.0  0.0   0.0  0.0  0.0  \n",
       "4  0.0  0.0  0.0  0.0   0.0  0.0  0.0  \n",
       "\n",
       "[5 rows x 65958 columns]"
      ]
     },
     "execution_count": 35,
     "metadata": {},
     "output_type": "execute_result"
    }
   ],
   "source": [
    "chnumber_list = ['一','二','三','四','五','六','七','八','九']\n",
    "count = 0\n",
    "for token in df_vec.columns.values:\n",
    "    for ch_str in chnumber_list:\n",
    "        if ch_str in token:\n",
    "            count += 1\n",
    "            df_vec.drop(token, axis=1, inplace=True)\n",
    "            break\n",
    "print(count)\n",
    "df_vec.head()"
   ]
  },
  {
   "cell_type": "markdown",
   "metadata": {},
   "source": [
    "- 利用卡方值選出前500個特徵詞"
   ]
  },
  {
   "cell_type": "code",
   "execution_count": 37,
   "metadata": {},
   "outputs": [
    {
     "data": {
      "text/html": [
       "<div>\n",
       "<style scoped>\n",
       "    .dataframe tbody tr th:only-of-type {\n",
       "        vertical-align: middle;\n",
       "    }\n",
       "\n",
       "    .dataframe tbody tr th {\n",
       "        vertical-align: top;\n",
       "    }\n",
       "\n",
       "    .dataframe thead th {\n",
       "        text-align: right;\n",
       "    }\n",
       "</style>\n",
       "<table border=\"1\" class=\"dataframe\">\n",
       "  <thead>\n",
       "    <tr style=\"text-align: right;\">\n",
       "      <th></th>\n",
       "      <th>上海科</th>\n",
       "      <th>上漲點</th>\n",
       "      <th>上班</th>\n",
       "      <th>上限</th>\n",
       "      <th>下午</th>\n",
       "      <th>不過</th>\n",
       "      <th>中經院</th>\n",
       "      <th>中階</th>\n",
       "      <th>中電</th>\n",
       "      <th>事由</th>\n",
       "      <th>...</th>\n",
       "      <th>高薪</th>\n",
       "      <th>高通聯發科</th>\n",
       "      <th>高雄</th>\n",
       "      <th>高齡者</th>\n",
       "      <th>魏永祥</th>\n",
       "      <th>鴻碩</th>\n",
       "      <th>鴿派</th>\n",
       "      <th>黃育仁</th>\n",
       "      <th>點數</th>\n",
       "      <th>點重</th>\n",
       "    </tr>\n",
       "  </thead>\n",
       "  <tbody>\n",
       "    <tr>\n",
       "      <th>0</th>\n",
       "      <td>0.0</td>\n",
       "      <td>0.0</td>\n",
       "      <td>0.0</td>\n",
       "      <td>0.0</td>\n",
       "      <td>0.0</td>\n",
       "      <td>0.000000</td>\n",
       "      <td>0.0</td>\n",
       "      <td>0.0</td>\n",
       "      <td>0.0</td>\n",
       "      <td>0.0</td>\n",
       "      <td>...</td>\n",
       "      <td>0.0</td>\n",
       "      <td>0.0</td>\n",
       "      <td>0.0</td>\n",
       "      <td>0.0</td>\n",
       "      <td>0.0</td>\n",
       "      <td>0.0</td>\n",
       "      <td>0.0</td>\n",
       "      <td>0.0</td>\n",
       "      <td>0.0</td>\n",
       "      <td>0.0</td>\n",
       "    </tr>\n",
       "    <tr>\n",
       "      <th>1</th>\n",
       "      <td>0.0</td>\n",
       "      <td>0.0</td>\n",
       "      <td>0.0</td>\n",
       "      <td>0.0</td>\n",
       "      <td>0.0</td>\n",
       "      <td>0.000000</td>\n",
       "      <td>0.0</td>\n",
       "      <td>0.0</td>\n",
       "      <td>0.0</td>\n",
       "      <td>0.0</td>\n",
       "      <td>...</td>\n",
       "      <td>0.0</td>\n",
       "      <td>0.0</td>\n",
       "      <td>0.0</td>\n",
       "      <td>0.0</td>\n",
       "      <td>0.0</td>\n",
       "      <td>0.0</td>\n",
       "      <td>0.0</td>\n",
       "      <td>0.0</td>\n",
       "      <td>0.0</td>\n",
       "      <td>0.0</td>\n",
       "    </tr>\n",
       "    <tr>\n",
       "      <th>2</th>\n",
       "      <td>0.0</td>\n",
       "      <td>0.0</td>\n",
       "      <td>0.0</td>\n",
       "      <td>0.0</td>\n",
       "      <td>0.0</td>\n",
       "      <td>0.000000</td>\n",
       "      <td>0.0</td>\n",
       "      <td>0.0</td>\n",
       "      <td>0.0</td>\n",
       "      <td>0.0</td>\n",
       "      <td>...</td>\n",
       "      <td>0.0</td>\n",
       "      <td>0.0</td>\n",
       "      <td>0.0</td>\n",
       "      <td>0.0</td>\n",
       "      <td>0.0</td>\n",
       "      <td>0.0</td>\n",
       "      <td>0.0</td>\n",
       "      <td>0.0</td>\n",
       "      <td>0.0</td>\n",
       "      <td>0.0</td>\n",
       "    </tr>\n",
       "    <tr>\n",
       "      <th>3</th>\n",
       "      <td>0.0</td>\n",
       "      <td>0.0</td>\n",
       "      <td>0.0</td>\n",
       "      <td>0.0</td>\n",
       "      <td>0.0</td>\n",
       "      <td>0.000000</td>\n",
       "      <td>0.0</td>\n",
       "      <td>0.0</td>\n",
       "      <td>0.0</td>\n",
       "      <td>0.0</td>\n",
       "      <td>...</td>\n",
       "      <td>0.0</td>\n",
       "      <td>0.0</td>\n",
       "      <td>0.0</td>\n",
       "      <td>0.0</td>\n",
       "      <td>0.0</td>\n",
       "      <td>0.0</td>\n",
       "      <td>0.0</td>\n",
       "      <td>0.0</td>\n",
       "      <td>0.0</td>\n",
       "      <td>0.0</td>\n",
       "    </tr>\n",
       "    <tr>\n",
       "      <th>4</th>\n",
       "      <td>0.0</td>\n",
       "      <td>0.0</td>\n",
       "      <td>0.0</td>\n",
       "      <td>0.0</td>\n",
       "      <td>0.0</td>\n",
       "      <td>0.000000</td>\n",
       "      <td>0.0</td>\n",
       "      <td>0.0</td>\n",
       "      <td>0.0</td>\n",
       "      <td>0.0</td>\n",
       "      <td>...</td>\n",
       "      <td>0.0</td>\n",
       "      <td>0.0</td>\n",
       "      <td>0.0</td>\n",
       "      <td>0.0</td>\n",
       "      <td>0.0</td>\n",
       "      <td>0.0</td>\n",
       "      <td>0.0</td>\n",
       "      <td>0.0</td>\n",
       "      <td>0.0</td>\n",
       "      <td>0.0</td>\n",
       "    </tr>\n",
       "    <tr>\n",
       "      <th>...</th>\n",
       "      <td>...</td>\n",
       "      <td>...</td>\n",
       "      <td>...</td>\n",
       "      <td>...</td>\n",
       "      <td>...</td>\n",
       "      <td>...</td>\n",
       "      <td>...</td>\n",
       "      <td>...</td>\n",
       "      <td>...</td>\n",
       "      <td>...</td>\n",
       "      <td>...</td>\n",
       "      <td>...</td>\n",
       "      <td>...</td>\n",
       "      <td>...</td>\n",
       "      <td>...</td>\n",
       "      <td>...</td>\n",
       "      <td>...</td>\n",
       "      <td>...</td>\n",
       "      <td>...</td>\n",
       "      <td>...</td>\n",
       "      <td>...</td>\n",
       "    </tr>\n",
       "    <tr>\n",
       "      <th>4643</th>\n",
       "      <td>0.0</td>\n",
       "      <td>0.0</td>\n",
       "      <td>0.0</td>\n",
       "      <td>0.0</td>\n",
       "      <td>0.0</td>\n",
       "      <td>0.000000</td>\n",
       "      <td>0.0</td>\n",
       "      <td>0.0</td>\n",
       "      <td>0.0</td>\n",
       "      <td>0.0</td>\n",
       "      <td>...</td>\n",
       "      <td>0.0</td>\n",
       "      <td>0.0</td>\n",
       "      <td>0.0</td>\n",
       "      <td>0.0</td>\n",
       "      <td>0.0</td>\n",
       "      <td>0.0</td>\n",
       "      <td>0.0</td>\n",
       "      <td>0.0</td>\n",
       "      <td>0.0</td>\n",
       "      <td>0.0</td>\n",
       "    </tr>\n",
       "    <tr>\n",
       "      <th>4644</th>\n",
       "      <td>0.0</td>\n",
       "      <td>0.0</td>\n",
       "      <td>0.0</td>\n",
       "      <td>0.0</td>\n",
       "      <td>0.0</td>\n",
       "      <td>0.000000</td>\n",
       "      <td>0.0</td>\n",
       "      <td>0.0</td>\n",
       "      <td>0.0</td>\n",
       "      <td>0.0</td>\n",
       "      <td>...</td>\n",
       "      <td>0.0</td>\n",
       "      <td>0.0</td>\n",
       "      <td>0.0</td>\n",
       "      <td>0.0</td>\n",
       "      <td>0.0</td>\n",
       "      <td>0.0</td>\n",
       "      <td>0.0</td>\n",
       "      <td>0.0</td>\n",
       "      <td>0.0</td>\n",
       "      <td>0.0</td>\n",
       "    </tr>\n",
       "    <tr>\n",
       "      <th>4645</th>\n",
       "      <td>0.0</td>\n",
       "      <td>0.0</td>\n",
       "      <td>0.0</td>\n",
       "      <td>0.0</td>\n",
       "      <td>0.0</td>\n",
       "      <td>0.035737</td>\n",
       "      <td>0.0</td>\n",
       "      <td>0.0</td>\n",
       "      <td>0.0</td>\n",
       "      <td>0.0</td>\n",
       "      <td>...</td>\n",
       "      <td>0.0</td>\n",
       "      <td>0.0</td>\n",
       "      <td>0.0</td>\n",
       "      <td>0.0</td>\n",
       "      <td>0.0</td>\n",
       "      <td>0.0</td>\n",
       "      <td>0.0</td>\n",
       "      <td>0.0</td>\n",
       "      <td>0.0</td>\n",
       "      <td>0.0</td>\n",
       "    </tr>\n",
       "    <tr>\n",
       "      <th>4646</th>\n",
       "      <td>0.0</td>\n",
       "      <td>0.0</td>\n",
       "      <td>0.0</td>\n",
       "      <td>0.0</td>\n",
       "      <td>0.0</td>\n",
       "      <td>0.000000</td>\n",
       "      <td>0.0</td>\n",
       "      <td>0.0</td>\n",
       "      <td>0.0</td>\n",
       "      <td>0.0</td>\n",
       "      <td>...</td>\n",
       "      <td>0.0</td>\n",
       "      <td>0.0</td>\n",
       "      <td>0.0</td>\n",
       "      <td>0.0</td>\n",
       "      <td>0.0</td>\n",
       "      <td>0.0</td>\n",
       "      <td>0.0</td>\n",
       "      <td>0.0</td>\n",
       "      <td>0.0</td>\n",
       "      <td>0.0</td>\n",
       "    </tr>\n",
       "    <tr>\n",
       "      <th>4647</th>\n",
       "      <td>0.0</td>\n",
       "      <td>0.0</td>\n",
       "      <td>0.0</td>\n",
       "      <td>0.0</td>\n",
       "      <td>0.0</td>\n",
       "      <td>0.000000</td>\n",
       "      <td>0.0</td>\n",
       "      <td>0.0</td>\n",
       "      <td>0.0</td>\n",
       "      <td>0.0</td>\n",
       "      <td>...</td>\n",
       "      <td>0.0</td>\n",
       "      <td>0.0</td>\n",
       "      <td>0.0</td>\n",
       "      <td>0.0</td>\n",
       "      <td>0.0</td>\n",
       "      <td>0.0</td>\n",
       "      <td>0.0</td>\n",
       "      <td>0.0</td>\n",
       "      <td>0.0</td>\n",
       "      <td>0.0</td>\n",
       "    </tr>\n",
       "  </tbody>\n",
       "</table>\n",
       "<p>4648 rows × 500 columns</p>\n",
       "</div>"
      ],
      "text/plain": [
       "      上海科  上漲點   上班   上限   下午        不過  中經院   中階   中電   事由  ...   高薪  高通聯發科  \\\n",
       "0     0.0  0.0  0.0  0.0  0.0  0.000000  0.0  0.0  0.0  0.0  ...  0.0    0.0   \n",
       "1     0.0  0.0  0.0  0.0  0.0  0.000000  0.0  0.0  0.0  0.0  ...  0.0    0.0   \n",
       "2     0.0  0.0  0.0  0.0  0.0  0.000000  0.0  0.0  0.0  0.0  ...  0.0    0.0   \n",
       "3     0.0  0.0  0.0  0.0  0.0  0.000000  0.0  0.0  0.0  0.0  ...  0.0    0.0   \n",
       "4     0.0  0.0  0.0  0.0  0.0  0.000000  0.0  0.0  0.0  0.0  ...  0.0    0.0   \n",
       "...   ...  ...  ...  ...  ...       ...  ...  ...  ...  ...  ...  ...    ...   \n",
       "4643  0.0  0.0  0.0  0.0  0.0  0.000000  0.0  0.0  0.0  0.0  ...  0.0    0.0   \n",
       "4644  0.0  0.0  0.0  0.0  0.0  0.000000  0.0  0.0  0.0  0.0  ...  0.0    0.0   \n",
       "4645  0.0  0.0  0.0  0.0  0.0  0.035737  0.0  0.0  0.0  0.0  ...  0.0    0.0   \n",
       "4646  0.0  0.0  0.0  0.0  0.0  0.000000  0.0  0.0  0.0  0.0  ...  0.0    0.0   \n",
       "4647  0.0  0.0  0.0  0.0  0.0  0.000000  0.0  0.0  0.0  0.0  ...  0.0    0.0   \n",
       "\n",
       "       高雄  高齡者  魏永祥   鴻碩   鴿派  黃育仁   點數   點重  \n",
       "0     0.0  0.0  0.0  0.0  0.0  0.0  0.0  0.0  \n",
       "1     0.0  0.0  0.0  0.0  0.0  0.0  0.0  0.0  \n",
       "2     0.0  0.0  0.0  0.0  0.0  0.0  0.0  0.0  \n",
       "3     0.0  0.0  0.0  0.0  0.0  0.0  0.0  0.0  \n",
       "4     0.0  0.0  0.0  0.0  0.0  0.0  0.0  0.0  \n",
       "...   ...  ...  ...  ...  ...  ...  ...  ...  \n",
       "4643  0.0  0.0  0.0  0.0  0.0  0.0  0.0  0.0  \n",
       "4644  0.0  0.0  0.0  0.0  0.0  0.0  0.0  0.0  \n",
       "4645  0.0  0.0  0.0  0.0  0.0  0.0  0.0  0.0  \n",
       "4646  0.0  0.0  0.0  0.0  0.0  0.0  0.0  0.0  \n",
       "4647  0.0  0.0  0.0  0.0  0.0  0.0  0.0  0.0  \n",
       "\n",
       "[4648 rows x 500 columns]"
      ]
     },
     "execution_count": 37,
     "metadata": {},
     "output_type": "execute_result"
    }
   ],
   "source": [
    "y = df_IN_updown['label']\n",
    "chi2_selector = SelectKBest(chi2, k = 500)\n",
    "chi2_selector.fit(df_vec, y)\n",
    "kbest_vocabs = df_vec.columns[chi2_selector.get_support()]\n",
    "X = df_vec[kbest_vocabs]\n",
    "X\n",
    "#\t一八年度\t七葷\t三安\t三陽\t上季\t上市櫃\t上海科\t上漲點\t上班\t上述檔\t...\t鴻家軍\t鴻海元大\t鴻海國巨\t鴻碩\t鴿派\t黃育仁\t點分析師\t點數\t點日線\t點重"
   ]
  },
  {
   "cell_type": "markdown",
   "metadata": {},
   "source": [
    "# Require(2)\n",
    "    兩批文章作為訓練資料及測試資料，建立分類器"
   ]
  },
  {
   "cell_type": "code",
   "execution_count": 38,
   "metadata": {},
   "outputs": [],
   "source": [
    "y = df_IN_updown['label'].apply(lambda x: 1 if x == '漲' else 0)"
   ]
  },
  {
   "cell_type": "code",
   "execution_count": 39,
   "metadata": {},
   "outputs": [],
   "source": [
    "from sklearn.model_selection import train_test_split\n",
    "X_train, X_test, y_train, y_test = train_test_split(X, y, test_size=0.2, random_state=123)"
   ]
  },
  {
   "cell_type": "code",
   "execution_count": 40,
   "metadata": {},
   "outputs": [],
   "source": [
    "from sklearn.ensemble import GradientBoostingClassifier\n",
    "from sklearn.metrics import roc_curve, classification_report"
   ]
  },
  {
   "cell_type": "code",
   "execution_count": 46,
   "metadata": {},
   "outputs": [],
   "source": [
    "# 定義繪製ROC Curve的函數\n",
    "import matplotlib.pyplot as plt\n",
    "def plot_ROC_Curve(fpr, tpr):\n",
    "    plt.plot([0, 1], [0, 1], 'k--')\n",
    "    plt.plot(fpr, tpr)\n",
    "    plt.xlabel('False Positive Rate')\n",
    "    plt.ylabel('True Positive Rate')\n",
    "    plt.title('ROC Curve')\n",
    "    plt.show()"
   ]
  },
  {
   "cell_type": "code",
   "execution_count": 43,
   "metadata": {},
   "outputs": [],
   "source": [
    "from sklearn.model_selection import cross_val_score\n",
    "\n",
    "def get_cvscore(classifier,X,y,cv=5,scoring='accuracy'):\n",
    "    '''return scores, Avg score'''\n",
    "    scores = cross_val_score(classifier,X,y,cv=cv,scoring=scoring)\n",
    "    print(scores)\n",
    "    print(\"Avg. Accuracy: {}\".format(scores.mean()))"
   ]
  },
  {
   "cell_type": "code",
   "execution_count": 44,
   "metadata": {},
   "outputs": [],
   "source": [
    "from sklearn.metrics import roc_auc_score\n",
    "from sklearn.metrics import roc_curve\n",
    "def fit_model(classifier, X_train, y_train, y_test):\n",
    "    '''We fit model and return fpr, tpr, y_pred'''\n",
    "    classifier.fit(X_train, y_train)\n",
    "    y_pred = classifier.predict(X_train)\n",
    "    y_pred_prob = classifier.predict_proba(X_test)[:,1]\n",
    "    print('Accuracy: {}'.format(classifier.score(X_test, y_test)))\n",
    "    fpr, tpr, thresholds = roc_curve(y_test, y_pred_prob)\n",
    "    return fpr, tpr, y_pred"
   ]
  },
  {
   "cell_type": "code",
   "execution_count": 47,
   "metadata": {},
   "outputs": [
    {
     "name": "stdout",
     "output_type": "stream",
     "text": [
      "Accuracy of GradientBoostingClassifier: 0.624731182795699\n"
     ]
    },
    {
     "data": {
      "image/png": "[encoded data removed]",
      "text/plain": [
       "<Figure size 432x288 with 1 Axes>"
      ]
     },
     "metadata": {
      "needs_background": "light"
     },
     "output_type": "display_data"
    },
    {
     "name": "stdout",
     "output_type": "stream",
     "text": [
      "AUC: 0.6866999038034631\n",
      "              precision    recall  f1-score   support\n",
      "\n",
      "           0       0.62      0.64      0.63       464\n",
      "           1       0.63      0.61      0.62       466\n",
      "\n",
      "    accuracy                           0.62       930\n",
      "   macro avg       0.62      0.62      0.62       930\n",
      "weighted avg       0.62      0.62      0.62       930\n",
      "\n",
      "[[298 166]\n",
      " [183 283]]\n"
     ]
    }
   ],
   "source": [
    "clf = GradientBoostingClassifier(n_estimators=100, learning_rate=1, max_depth=7, random_state=123)\n",
    "clf.fit(X_train, y_train)\n",
    "y_pred = clf.predict(X_test)\n",
    "y_pred_prob = clf.predict_proba(X_test)[:,1]\n",
    "print('Accuracy of GradientBoostingClassifier: {}'.format(clf.score(X_test, y_test)))\n",
    "fpr, tpr, thresholds = roc_curve(y_test, y_pred_prob)\n",
    "\n",
    "# Plot AUC Curve\n",
    "plot_ROC_Curve(fpr, tpr)\n",
    "\n",
    "# AUC\n",
    "print(\"AUC: {}\".format(roc_auc_score(y_test, y_pred_prob)))\n",
    "\n",
    "# classification_report\n",
    "print(classification_report(y_test, y_pred))\n",
    "\n",
    "# confusion_matrix\n",
    "from sklearn.metrics import confusion_matrix  \n",
    "print(confusion_matrix(y_test, y_pred)) #印出混淆矩陣\n",
    "# test/predicted 看跌   看漲\n",
    "#    看跌         TN     FP\n",
    "#    看漲         FN     TP"
   ]
  },
  {
   "cell_type": "markdown",
   "metadata": {},
   "source": [
    "- Random Forest"
   ]
  },
  {
   "cell_type": "code",
   "execution_count": 36,
   "metadata": {},
   "outputs": [],
   "source": [
    "from sklearn.ensemble import RandomForestClassifier"
   ]
  },
  {
   "cell_type": "code",
   "execution_count": 37,
   "metadata": {},
   "outputs": [
    {
     "name": "stdout",
     "output_type": "stream",
     "text": [
      "Accuracy of RandomForestClassifier: 0.6408602150537634\n"
     ]
    },
    {
     "data": {
      "image/png": "[encoded data removed]",
      "text/plain": [
       "<Figure size 432x288 with 1 Axes>"
      ]
     },
     "metadata": {
      "needs_background": "light"
     },
     "output_type": "display_data"
    },
    {
     "name": "stdout",
     "output_type": "stream",
     "text": [
      "AUC: 0.6972237124463521\n",
      "              precision    recall  f1-score   support\n",
      "\n",
      "           0       0.65      0.61      0.63       464\n",
      "           1       0.63      0.67      0.65       466\n",
      "\n",
      "    accuracy                           0.64       930\n",
      "   macro avg       0.64      0.64      0.64       930\n",
      "weighted avg       0.64      0.64      0.64       930\n",
      "\n",
      "[[285 179]\n",
      " [155 311]]\n"
     ]
    }
   ],
   "source": [
    "forest = RandomForestClassifier(n_estimators = 150)\n",
    "forest_fit = forest.fit(X_train, y_train)\n",
    "y_pred = forest.predict(X_test)\n",
    "y_pred_prob = forest.predict_proba(X_test)[:,1]\n",
    "print('Accuracy of RandomForestClassifier: {}'.format(forest.score(X_test, y_test)))\n",
    "fpr, tpr, thresholds = roc_curve(y_test, y_pred_prob)\n",
    "\n",
    "# Plot AUC Curve\n",
    "plot_ROC_Curve(fpr, tpr)\n",
    "\n",
    "# AUC\n",
    "print(\"AUC: {}\".format(roc_auc_score(y_test, y_pred_prob)))\n",
    "\n",
    "# classification_report\n",
    "print(classification_report(y_test, y_pred))\n",
    "\n",
    "# confusion_matrix\n",
    "from sklearn.metrics import confusion_matrix  \n",
    "print(confusion_matrix(y_test, y_pred)) #印出混淆矩陣\n",
    "# test/predicted 看跌   看漲\n",
    "#    看跌         TN     FP\n",
    "#    看漲         FN     TP"
   ]
  },
  {
   "cell_type": "markdown",
   "metadata": {},
   "source": [
    "# 調整參數\n",
    "    eta: 學習率\n",
    "    max_depth: 每棵樹可以增長到的最大深度\n",
    "    colsample_bytree: 簡單地指定在給定樹中的每個拆分處要選擇的特徵的比例 (越大越模型準確度越好，但可能overfit)"
   ]
  },
  {
   "cell_type": "code",
   "execution_count": 38,
   "metadata": {},
   "outputs": [],
   "source": [
    "# import xgboost as xgb\n",
    "# from xgboost.sklearn import XGBClassifier\n",
    "# from sklearn.model_selection import cross_val_score, GridSearchCV, RandomizedSearchCV"
   ]
  },
  {
   "cell_type": "markdown",
   "metadata": {},
   "source": [
    "- eta"
   ]
  },
  {
   "cell_type": "code",
   "execution_count": 39,
   "metadata": {},
   "outputs": [],
   "source": [
    "# # Create the DMatrix from X and y: churn_dmatrix\n",
    "# dmatrix = xgb.DMatrix(data=X, label=y)\n",
    "\n",
    "# # Create the parameter dictionary for each tree (boosting round)\n",
    "# params = {\"objective\":\"reg:logistic\", \"max_depth\":3}\n",
    "\n",
    "# # Create list of eta values and empty list to store final round rmse per xgboost model\n",
    "# eta_vals = [0.001, 0.01, 0.1]\n",
    "# best_auc = []\n",
    "\n",
    "# # Systematically vary the eta\n",
    "# for curr_val in eta_vals:\n",
    "\n",
    "#     params[\"eta\"] = curr_val\n",
    "    \n",
    "#     # Perform cross-validation: cv_results\n",
    "#     cv_results = xgb.cv(dtrain=dmatrix, params=params, nfold=3,\n",
    "#                         num_boost_round=100, early_stopping_rounds=10,\n",
    "#                         metrics=\"auc\", as_pandas=True, seed=123)\n",
    "    \n",
    "#     # Append the final round rmse to best_rmse\n",
    "#     best_auc.append(cv_results[\"test-auc-mean\"].tail().values[-1])\n",
    "\n",
    "# # Print the resultant DataFrame\n",
    "# print(pd.DataFrame(list(zip(eta_vals, best_auc)), columns=[\"eta\",\"best_auc\"]))\n"
   ]
  },
  {
   "cell_type": "markdown",
   "metadata": {},
   "source": [
    "- max_depth"
   ]
  },
  {
   "cell_type": "code",
   "execution_count": 40,
   "metadata": {},
   "outputs": [],
   "source": [
    "# # Create your housing DMatrix: housing_dmatrix\n",
    "# dmatrix = xgb.DMatrix(data=X, label=y)\n",
    "\n",
    "# # Create the parameter dictionary\n",
    "# params = {\"objective\":\"reg:logistic\"}\n",
    "\n",
    "# # Create list of max_depth values\n",
    "# max_depths = [2, 5, 10, 20]\n",
    "# best_auc = []\n",
    "\n",
    "# # Systematically vary the max_depth\n",
    "# for curr_val in max_depths:\n",
    "\n",
    "#     params[\"max_depth\"] = curr_val\n",
    "    \n",
    "#     # Perform cross-validation\n",
    "#     cv_results = xgb.cv(dtrain=dmatrix, params=params, nfold=2,\n",
    "#                  num_boost_round=100, early_stopping_rounds=5,\n",
    "#                  metrics=\"auc\", as_pandas=True, seed=123)\n",
    "    \n",
    "#     # Append the final round rmse to best_rmse\n",
    "#     best_auc.append(cv_results[\"test-auc-mean\"].tail().values[-1])\n",
    "\n",
    "# # Print the resultant DataFrame\n",
    "# print(pd.DataFrame(list(zip(max_depths, best_auc)),columns=[\"max_depth\",\"best_rmse\"]))"
   ]
  },
  {
   "cell_type": "markdown",
   "metadata": {},
   "source": [
    "- colsample_bytree"
   ]
  },
  {
   "cell_type": "code",
   "execution_count": 41,
   "metadata": {},
   "outputs": [],
   "source": [
    "# # Create your housing DMatrix: housing_dmatrix\n",
    "# dmatrix = xgb.DMatrix(data=X, label=y)\n",
    "\n",
    "# # Create the parameter dictionary\n",
    "# params = {\"objective\":\"reg:logistic\", \"max_depth\":20}\n",
    "\n",
    "# # Create list of max_depth values\n",
    "# colsample_bytree_vals = [0.1, 0.5, 0.8, 1]\n",
    "# best_auc = []\n",
    "\n",
    "# # Systematically vary the max_depth\n",
    "# for curr_val in colsample_bytree_vals:\n",
    "\n",
    "#     params[\"colsample_bytree\"] = curr_val\n",
    "    \n",
    "#     # Perform cross-validation\n",
    "#     cv_results = xgb.cv(dtrain=dmatrix, params=params, nfold=2,\n",
    "#                  num_boost_round=100, early_stopping_rounds=5,\n",
    "#                  metrics=\"auc\", as_pandas=True, seed=123)\n",
    "    \n",
    "#     # Append the final round rmse to best_rmse\n",
    "#     best_auc.append(cv_results[\"test-auc-mean\"].tail().values[-1])\n",
    "\n",
    "# # Print the resultant DataFrame\n",
    "# print(pd.DataFrame(list(zip(colsample_bytree_vals, best_auc)),columns=[\"colsample_bytree\",\"best_rmse\"]))"
   ]
  },
  {
   "cell_type": "code",
   "execution_count": 42,
   "metadata": {},
   "outputs": [],
   "source": [
    "# # Create the DMatrix from X and y: dmatrix\n",
    "# dmatrix = xgb.DMatrix(data=X, label=y)\n",
    "\n",
    "# # Create the parameter dictionary: params\n",
    "# params = {\"objective\":\"reg:logistic\", \"max_depth\": 20, \"colsample_bytree\": 1.0, \"eta\": 1.0}\n",
    "\n",
    "# # Perform cross_validation: cv_results\n",
    "# cv_results = xgb.cv(dtrain=dmatrix, params=params,\n",
    "#                   nfold=5, num_boost_round=100,\n",
    "#                   metrics=\"error\", as_pandas=True, seed=123)\n",
    "\n",
    "# # Print cv_results\n",
    "# print(cv_results)\n",
    "\n",
    "# # Print the accuracy\n",
    "# print(((1-cv_results[\"test-error-mean\"]).iloc[-1]))"
   ]
  },
  {
   "cell_type": "markdown",
   "metadata": {},
   "source": [
    "- Grid search"
   ]
  },
  {
   "cell_type": "code",
   "execution_count": 43,
   "metadata": {},
   "outputs": [],
   "source": [
    "# import warnings\n",
    "# warnings.filterwarnings('ignore')\n",
    "# # Create the parameter grid: gbm_param_grid\n",
    "# gbm_param_grid = {\n",
    "#     'colsample_bytree': [0.3, 0.7, 1.0],\n",
    "#     'n_estimators': [50, 100, 200],\n",
    "#     'max_depth': [2, 5, 10, 20],\n",
    "#     'eta': [0.001, 0.01, 0.1]\n",
    "# }\n",
    "\n",
    "# # Instantiate the regressor: gbm\n",
    "# gbm = xgb.XGBClassifier()\n",
    "\n",
    "# # Perform grid search: grid_mse\n",
    "# grid_cv = GridSearchCV(estimator=gbm, param_grid=gbm_param_grid, cv=5, verbose=1)\n",
    "# grid_cv.fit(X, y)\n",
    "\n",
    "# # Print the best parameters and lowest RMSE\n",
    "# print(\"Best parameters found: \", grid_cv.best_params_)\n",
    "# print(\"Best score is:{} \".format(grid_cv.best_score_))"
   ]
  },
  {
   "cell_type": "code",
   "execution_count": 44,
   "metadata": {},
   "outputs": [],
   "source": [
    "# import warnings\n",
    "# warnings.filterwarnings('ignore')\n",
    "\n",
    "# # Create the parameter grid: gbm_param_grid \n",
    "# gbm_param_grid = {\n",
    "#     'colsample_bytree': [0.3, 0.7, 1.0],\n",
    "#     'n_estimators': [50, 100, 200],\n",
    "#     'max_depth': [2, 5, 10, 20],\n",
    "#     'eta': [0.001, 0.01, 0.5, 0.1]\n",
    "# }\n",
    "\n",
    "# # Instantiate the regressor: gbm\n",
    "# gbm = xgb.XGBClassifier()\n",
    "\n",
    "# # Perform random search: grid_mse\n",
    "# randomized_cv = RandomizedSearchCV(estimator=gbm, param_distributions=gbm_param_grid, cv=5, verbose=1)\n",
    "# randomized_cv.fit(X, y)\n",
    "\n",
    "# # Print the best parameters and lowest RMSE\n",
    "# print(\"Best parameters found: \",randomized_cv.best_params_)\n",
    "# print(\"Best score is:{} \".format(randomized_cv.best_score_))"
   ]
  },
  {
   "cell_type": "code",
   "execution_count": 45,
   "metadata": {},
   "outputs": [],
   "source": [
    "# # Print the best parameters and lowest RMSE\n",
    "# print(\"Best parameters found: \",randomized_cv.best_params_)\n",
    "# print(\"Best score is:{} \".format(randomized_cv.best_score_))"
   ]
  },
  {
   "cell_type": "markdown",
   "metadata": {},
   "source": [
    "# Requirement(3): 回測"
   ]
  },
  {
   "cell_type": "markdown",
   "metadata": {},
   "source": [
    "- 訓練資料"
   ]
  },
  {
   "cell_type": "code",
   "execution_count": 46,
   "metadata": {},
   "outputs": [],
   "source": [
    "# import datetime\n",
    "# train_startDate = datetime.date(2021,1,1)\n",
    "# train_endDate = datetime.date(2021,3,31)\n",
    "# df_IN_updown[train_startDate:train_endDate]"
   ]
  },
  {
   "cell_type": "code",
   "execution_count": 47,
   "metadata": {},
   "outputs": [],
   "source": [
    "# vectorizer = TfidfVectorizer(stop_words=stopwords)\n",
    "# X_train = vectorizer.fit_transform(df_IN_updown[train_startDate-pd.Timedelta(days=n):train_endDate-pd.Timedelta(days=n)]['content'])\n",
    "# X_train = pd.DataFrame(X_train.toarray(),columns=vectorizer.get_feature_names())\n",
    "# X_train"
   ]
  },
  {
   "cell_type": "code",
   "execution_count": 48,
   "metadata": {},
   "outputs": [],
   "source": [
    "# y_train = df_IN_updown[train_startDate-pd.Timedelta(days=n):train_endDate-pd.Timedelta(days=n)]['label']\n",
    "# chi2_selector = SelectKBest(chi2, k = 2000)\n",
    "# chi2_selector.fit(X_train, y_train)\n",
    "# kbest_vocabs = X_train.columns[chi2_selector.get_support()]\n",
    "# X_train = X_train[kbest_vocabs]\n",
    "# X_train"
   ]
  },
  {
   "cell_type": "markdown",
   "metadata": {},
   "source": [
    "- 測試資料"
   ]
  },
  {
   "cell_type": "code",
   "execution_count": 49,
   "metadata": {},
   "outputs": [],
   "source": [
    "# test_startDate = datetime.date(2021,4,1)\n",
    "# test_endDate = datetime.date(2021,4,30)"
   ]
  },
  {
   "cell_type": "code",
   "execution_count": 50,
   "metadata": {},
   "outputs": [],
   "source": [
    "# vectorizer = TfidfVectorizer(stop_words=stopwords)\n",
    "# X_test = vectorizer.fit_transform(df_IN[test_startDate-pd.Timedelta(days=n):test_endDate-pd.Timedelta(days=n)]['content'])\n",
    "# X_test = pd.DataFrame(X_test.toarray(),columns=vectorizer.get_feature_names())\n",
    "# X_test = X_test.reindex(kbest_vocabs, axis=1, fill_value=0)\n",
    "# X_test"
   ]
  },
  {
   "cell_type": "markdown",
   "metadata": {},
   "source": [
    "# 建立預測模型"
   ]
  },
  {
   "cell_type": "code",
   "execution_count": 51,
   "metadata": {},
   "outputs": [],
   "source": [
    "# clf = GradientBoostingClassifier(n_estimators=100, learning_rate=1, max_depth=7, random_state=123)\n",
    "# clf.fit(X_train, y_train)\n",
    "# clf.score(X_train, y_train)"
   ]
  },
  {
   "cell_type": "markdown",
   "metadata": {},
   "source": [
    "# 預測結果"
   ]
  },
  {
   "cell_type": "code",
   "execution_count": 52,
   "metadata": {},
   "outputs": [],
   "source": [
    "# test_label = df_IS[test_startDate:test_endDate]['updown']\n",
    "# test_data = df_IN[test_startDate-pd.Timedelta(days=n):test_endDate-pd.Timedelta(days=n)]\n",
    "# test_data['predict_label'] = clf.predict(X_test)\n",
    "\n",
    "# test_data.index.set_names('date', inplace= True)\n",
    "\n",
    "# predict_label = test_data.groupby(['date', 'predict_label']).count().sort_values('content', ascending = False).sort_index(level=[0], sort_remaining=False).groupby(level=0).head(1).reset_index(level=1)['predict_label']\n",
    "\n",
    "# # 將預測結果日期接回真實漲跌日期\n",
    "# predict_label.index = predict_label.index + pd.Timedelta(days=n)\n",
    "\n",
    "# # 預測狀況\n",
    "# df_outcome = pd.DataFrame([test_label, predict_label]).T\n",
    "# print('預測結果：')\n",
    "# print(df_outcome)\n",
    "\n",
    "# # 計算出手率\n",
    "# number_of_businessdays = len(df_outcome)\n",
    "# shot_rate = (number_of_businessdays - df_outcome['predict_label'].isna().sum()) / number_of_businessdays\n",
    "# print('{}月份出手率:'.format(test_startDate.month), shot_rate)\n",
    "\n",
    "# # 計算準確率\n",
    "# n_true = (df_outcome['updown'] == df_outcome['predict_label']).sum()\n",
    "# n_false = (df_outcome.dropna()['updown'] != df_outcome.dropna()['predict_label']).sum()\n",
    "# accuracy = n_true / (n_true + n_false)\n",
    "\n",
    "# from sklearn.metrics import accuracy_score\n",
    "# print('{}月份預測準確率:'.format(test_startDate.month), accuracy)"
   ]
  },
  {
   "cell_type": "markdown",
   "metadata": {},
   "source": [
    "# 對所有月份進行預測\n",
    "    2019年4月 - 2021年12月"
   ]
  },
  {
   "cell_type": "code",
   "execution_count": 53,
   "metadata": {},
   "outputs": [],
   "source": [
    "# 向量化\n",
    "def build_vector_space(data):\n",
    "    vectorizer = TfidfVectorizer(stop_words=stopwords)\n",
    "    tokenized_data = vectorizer.fit_transform(data)\n",
    "    tokenized_data = pd.DataFrame(tokenized_data.toarray(),columns=vectorizer.get_feature_names())\n",
    "    return tokenized_data\n",
    "\n",
    "\n",
    "# 特徵篩選\n",
    "def feature_select(X_train, y_train, selector=chi2, n_feature=2000):\n",
    "    chi2_selector = SelectKBest(selector, k = n_feature)\n",
    "    chi2_selector.fit(X_train, y_train)\n",
    "    kbest_vocabs = X_train.columns[chi2_selector.get_support()]\n",
    "    return kbest_vocabs\n",
    "\n"
   ]
  },
  {
   "cell_type": "code",
   "execution_count": null,
   "metadata": {},
   "outputs": [],
   "source": [
    "# 時間序列清單\n",
    "train_startDate_list = pd.date_range(start='2019-1-1', end='2021-9-1', freq='MS')\n",
    "train_endDate_list = pd.date_range(start='2019-3-1', end='2021-11-30', freq='M')\n",
    "test_startDate_list = pd.date_range(start='2019-4-1', end='2021-12-1', freq='MS')\n",
    "test_endDate_list = pd.date_range(start='2019-4-1', end='2021-12-31', freq='M')"
   ]
  },
  {
   "cell_type": "code",
   "execution_count": 85,
   "metadata": {},
   "outputs": [],
   "source": [
    "# 時間序列清單\n",
    "train_startDate_list = pd.date_range(start='2019-1-1', end='2020-12-1', freq='MS')\n",
    "train_endDate_list = pd.date_range(start='2019-12-1', end='2021-11-30', freq='M')\n",
    "test_startDate_list = pd.date_range(start='2020-1-1', end='2021-12-1', freq='MS')\n",
    "test_endDate_list = pd.date_range(start='2020-1-1', end='2021-12-31', freq='M')"
   ]
  },
  {
   "cell_type": "code",
   "execution_count": 86,
   "metadata": {},
   "outputs": [
    {
     "data": {
      "text/plain": [
       "DatetimeIndex(['2020-01-31', '2020-02-29', '2020-03-31', '2020-04-30',\n",
       "               '2020-05-31', '2020-06-30', '2020-07-31', '2020-08-31',\n",
       "               '2020-09-30', '2020-10-31', '2020-11-30', '2020-12-31',\n",
       "               '2021-01-31', '2021-02-28', '2021-03-31', '2021-04-30',\n",
       "               '2021-05-31', '2021-06-30', '2021-07-31', '2021-08-31',\n",
       "               '2021-09-30', '2021-10-31', '2021-11-30', '2021-12-31'],\n",
       "              dtype='datetime64[ns]', freq='M')"
      ]
     },
     "execution_count": 86,
     "metadata": {},
     "output_type": "execute_result"
    }
   ],
   "source": [
    "test_endDate_list"
   ]
  },
  {
   "cell_type": "code",
   "execution_count": 87,
   "metadata": {},
   "outputs": [],
   "source": [
    "import warnings\n",
    "warnings.filterwarnings('ignore')"
   ]
  },
  {
   "cell_type": "markdown",
   "metadata": {},
   "source": [
    "- 舊方法\n",
    "- 漲或跌的報導數較多就判定為漲/跌"
   ]
  },
  {
   "cell_type": "code",
   "execution_count": 56,
   "metadata": {},
   "outputs": [
    {
     "name": "stdout",
     "output_type": "stream",
     "text": [
      "2019年5月出手率: 0.5909090909090909\n",
      "2019年5月預測準確率: 0.38461538461538464\n",
      "2019年6月出手率: 0.5789473684210527\n",
      "2019年6月預測準確率: 0.7272727272727273\n",
      "2019年7月出手率: 0.6086956521739131\n",
      "2019年7月預測準確率: 0.5\n",
      "2019年8月出手率: 0.38095238095238093\n",
      "2019年8月預測準確率: 0.5\n",
      "2019年9月出手率: 0.15789473684210525\n",
      "2019年9月預測準確率: 0.3333333333333333\n",
      "2019年10月出手率: 0.5238095238095238\n",
      "2019年10月預測準確率: 0.5454545454545454\n",
      "2019年11月出手率: 0.38095238095238093\n",
      "2019年11月預測準確率: 0.25\n",
      "2019年12月出手率: 0.4090909090909091\n",
      "2019年12月預測準確率: 0.2222222222222222\n",
      "2020年1月出手率: 0.4\n",
      "2020年1月預測準確率: 0.6666666666666666\n",
      "2020年2月出手率: 0.05263157894736842\n",
      "2020年2月預測準確率: 1.0\n",
      "2020年3月出手率: 0.2727272727272727\n",
      "2020年3月預測準確率: 0.16666666666666666\n",
      "2020年4月出手率: 0.5\n",
      "2020年4月預測準確率: 0.3\n",
      "2020年5月出手率: 0.25\n",
      "2020年5月預測準確率: 1.0\n",
      "2020年6月出手率: 0.65\n",
      "2020年6月預測準確率: 0.38461538461538464\n",
      "2020年7月出手率: 0.6086956521739131\n",
      "2020年7月預測準確率: 0.35714285714285715\n",
      "2020年8月出手率: 0.5714285714285714\n",
      "2020年8月預測準確率: 0.5833333333333334\n",
      "2020年9月出手率: 0.5454545454545454\n",
      "2020年9月預測準確率: 0.6666666666666666\n",
      "2020年10月出手率: 0.5789473684210527\n",
      "2020年10月預測準確率: 0.45454545454545453\n",
      "2020年11月出手率: 0.47619047619047616\n",
      "2020年11月預測準確率: 0.5\n",
      "2020年12月出手率: 0.6521739130434783\n",
      "2020年12月預測準確率: 0.5333333333333333\n",
      "2021年1月出手率: 0.8\n",
      "2021年1月預測準確率: 0.5\n",
      "2021年2月出手率: 0.8461538461538461\n",
      "2021年2月預測準確率: 0.36363636363636365\n",
      "2021年3月出手率: 0.5909090909090909\n",
      "2021年3月預測準確率: 0.5384615384615384\n",
      "2021年4月出手率: 0.7368421052631579\n",
      "2021年4月預測準確率: 0.5714285714285714\n",
      "2021年5月出手率: 0.8095238095238095\n",
      "2021年5月預測準確率: 0.47058823529411764\n",
      "2021年6月出手率: 0.5238095238095238\n",
      "2021年6月預測準確率: 0.6363636363636364\n",
      "2021年7月出手率: 0.7727272727272727\n",
      "2021年7月預測準確率: 0.4117647058823529\n",
      "2021年8月出手率: 0.5454545454545454\n",
      "2021年8月預測準確率: 0.4166666666666667\n",
      "2021年9月出手率: 0.65\n",
      "2021年9月預測準確率: 0.5384615384615384\n",
      "2021年10月出手率: 0.7\n",
      "2021年10月預測準確率: 0.35714285714285715\n",
      "2021年11月出手率: 0.36363636363636365\n",
      "2021年11月預測準確率: 0.5\n",
      "2021年12月出手率: 0.4090909090909091\n",
      "2021年12月預測準確率: 0.4444444444444444\n"
     ]
    }
   ],
   "source": [
    "df_result = pd.DataFrame()\n",
    "total_spot = 0\n",
    "total_bsday = 0\n",
    "true_count = 0\n",
    "false_count = 0\n",
    "for train_startDate, train_endDate, test_startDate, test_endDate in zip(train_startDate_list, train_endDate_list, test_startDate_list, test_endDate_list):\n",
    "    # 拆分資料集\n",
    "    train_data = df_IN_updown[train_startDate-pd.Timedelta(days=n):train_endDate-pd.Timedelta(days=n)]\n",
    "    test_data = df_IN_updown[test_startDate-pd.Timedelta(days=n):test_endDate-pd.Timedelta(days=n)]\n",
    "    # 向量化\n",
    "    X_train = build_vector_space(train_data['content'])\n",
    "    y_train = train_data['label']\n",
    "    # 特徵篩選\n",
    "    kbest_vocabs = feature_select(X_train, y_train, selector=chi2, n_feature=500)\n",
    "    X_train = X_train[kbest_vocabs]\n",
    "    X_test = build_vector_space(test_data['content'])\n",
    "    # 映射特徵向量到測試資料集\n",
    "    X_test = X_test.reindex(kbest_vocabs, axis=1, fill_value=0)\n",
    "    # 訓練模型\n",
    "    clf = GradientBoostingClassifier(n_estimators=100, learning_rate=1, max_depth=7, random_state=0)\n",
    "    # clf = RandomForestClassifier(n_estimators=150,max_depth=7)\n",
    "    clf.fit(X_train, y_train)\n",
    "    clf.score(X_train, y_train)\n",
    "    # 預測結果\n",
    "    # test_label 為真實股價漲跌\n",
    "    test_label = df_IS[test_startDate:test_endDate]['updown']\n",
    "    test_data['predict_label'] = clf.predict(X_test)\n",
    "    test_data.index.set_names('date', inplace= True)\n",
    "    predict_label = test_data.groupby(['date', 'predict_label']).count().sort_values('content', ascending = False).sort_index(level=[0], sort_remaining=False).groupby(level=0).head(1).reset_index(level=1)['predict_label']\n",
    "    # 將預測結果日期接回真實漲跌日期\n",
    "    predict_label.index = predict_label.index + pd.Timedelta(days=n)\n",
    "    # 預測狀況\n",
    "    df_outcome = pd.DataFrame([test_label, predict_label]).T\n",
    "    # 計算出手率\n",
    "    number_of_businessdays = len(df_outcome)\n",
    "    shot_rate = (number_of_businessdays - df_outcome['predict_label'].isna().sum()) / number_of_businessdays\n",
    "    print('{}年{}月出手率:'.format(test_startDate.year, test_startDate.month), shot_rate)\n",
    "    total_spot += number_of_businessdays - df_outcome['predict_label'].isna().sum()\n",
    "    total_bsday += number_of_businessdays\n",
    "    # 計算準確率\n",
    "    n_true = (df_outcome['updown'] == df_outcome['predict_label']).sum()\n",
    "    n_false = (df_outcome.dropna()['updown'] != df_outcome.dropna()['predict_label']).sum()\n",
    "    accuracy = n_true / (n_true + n_false)\n",
    "    print('{}年{}月預測準確率:'.format(test_startDate.year, test_startDate.month), accuracy)\n",
    "    true_count += n_true\n",
    "    false_count += n_false\n",
    "    \n",
    "\n",
    "\n",
    "    # 將統計結果彙整為一個DF\n",
    "    result = {'shot_rate':[shot_rate], 'accuracy':[accuracy]}\n",
    "    df_result = pd.concat([df_result, pd.DataFrame(data=result, index=[test_startDate])])\n"
   ]
  },
  {
   "cell_type": "code",
   "execution_count": 57,
   "metadata": {},
   "outputs": [
    {
     "name": "stdout",
     "output_type": "stream",
     "text": [
      "總出手次數:347\n",
      "出手率:0.528158295281583\n",
      "平均準確率:0.4783861671469741\n"
     ]
    }
   ],
   "source": [
    "print('總出手次數:{}'.format(total_spot))\n",
    "print('出手率:{}'.format(total_spot / total_bsday))\n",
    "print('平均準確率:{}'.format(true_count / (true_count+false_count)))\n"
   ]
  },
  {
   "cell_type": "code",
   "execution_count": 58,
   "metadata": {},
   "outputs": [
    {
     "data": {
      "text/html": [
       "<div>\n",
       "<style scoped>\n",
       "    .dataframe tbody tr th:only-of-type {\n",
       "        vertical-align: middle;\n",
       "    }\n",
       "\n",
       "    .dataframe tbody tr th {\n",
       "        vertical-align: top;\n",
       "    }\n",
       "\n",
       "    .dataframe thead th {\n",
       "        text-align: right;\n",
       "    }\n",
       "</style>\n",
       "<table border=\"1\" class=\"dataframe\">\n",
       "  <thead>\n",
       "    <tr style=\"text-align: right;\">\n",
       "      <th></th>\n",
       "      <th>shot_rate</th>\n",
       "      <th>accuracy</th>\n",
       "    </tr>\n",
       "  </thead>\n",
       "  <tbody>\n",
       "    <tr>\n",
       "      <th>2019-05-01</th>\n",
       "      <td>0.590909</td>\n",
       "      <td>0.384615</td>\n",
       "    </tr>\n",
       "    <tr>\n",
       "      <th>2019-06-01</th>\n",
       "      <td>0.578947</td>\n",
       "      <td>0.727273</td>\n",
       "    </tr>\n",
       "    <tr>\n",
       "      <th>2019-07-01</th>\n",
       "      <td>0.608696</td>\n",
       "      <td>0.500000</td>\n",
       "    </tr>\n",
       "    <tr>\n",
       "      <th>2019-08-01</th>\n",
       "      <td>0.380952</td>\n",
       "      <td>0.500000</td>\n",
       "    </tr>\n",
       "    <tr>\n",
       "      <th>2019-09-01</th>\n",
       "      <td>0.157895</td>\n",
       "      <td>0.333333</td>\n",
       "    </tr>\n",
       "    <tr>\n",
       "      <th>2019-10-01</th>\n",
       "      <td>0.523810</td>\n",
       "      <td>0.545455</td>\n",
       "    </tr>\n",
       "    <tr>\n",
       "      <th>2019-11-01</th>\n",
       "      <td>0.380952</td>\n",
       "      <td>0.250000</td>\n",
       "    </tr>\n",
       "    <tr>\n",
       "      <th>2019-12-01</th>\n",
       "      <td>0.409091</td>\n",
       "      <td>0.222222</td>\n",
       "    </tr>\n",
       "    <tr>\n",
       "      <th>2020-01-01</th>\n",
       "      <td>0.400000</td>\n",
       "      <td>0.666667</td>\n",
       "    </tr>\n",
       "    <tr>\n",
       "      <th>2020-02-01</th>\n",
       "      <td>0.052632</td>\n",
       "      <td>1.000000</td>\n",
       "    </tr>\n",
       "    <tr>\n",
       "      <th>2020-03-01</th>\n",
       "      <td>0.272727</td>\n",
       "      <td>0.166667</td>\n",
       "    </tr>\n",
       "    <tr>\n",
       "      <th>2020-04-01</th>\n",
       "      <td>0.500000</td>\n",
       "      <td>0.300000</td>\n",
       "    </tr>\n",
       "    <tr>\n",
       "      <th>2020-05-01</th>\n",
       "      <td>0.250000</td>\n",
       "      <td>1.000000</td>\n",
       "    </tr>\n",
       "    <tr>\n",
       "      <th>2020-06-01</th>\n",
       "      <td>0.650000</td>\n",
       "      <td>0.384615</td>\n",
       "    </tr>\n",
       "    <tr>\n",
       "      <th>2020-07-01</th>\n",
       "      <td>0.608696</td>\n",
       "      <td>0.357143</td>\n",
       "    </tr>\n",
       "    <tr>\n",
       "      <th>2020-08-01</th>\n",
       "      <td>0.571429</td>\n",
       "      <td>0.583333</td>\n",
       "    </tr>\n",
       "    <tr>\n",
       "      <th>2020-09-01</th>\n",
       "      <td>0.545455</td>\n",
       "      <td>0.666667</td>\n",
       "    </tr>\n",
       "    <tr>\n",
       "      <th>2020-10-01</th>\n",
       "      <td>0.578947</td>\n",
       "      <td>0.454545</td>\n",
       "    </tr>\n",
       "    <tr>\n",
       "      <th>2020-11-01</th>\n",
       "      <td>0.476190</td>\n",
       "      <td>0.500000</td>\n",
       "    </tr>\n",
       "    <tr>\n",
       "      <th>2020-12-01</th>\n",
       "      <td>0.652174</td>\n",
       "      <td>0.533333</td>\n",
       "    </tr>\n",
       "    <tr>\n",
       "      <th>2021-01-01</th>\n",
       "      <td>0.800000</td>\n",
       "      <td>0.500000</td>\n",
       "    </tr>\n",
       "    <tr>\n",
       "      <th>2021-02-01</th>\n",
       "      <td>0.846154</td>\n",
       "      <td>0.363636</td>\n",
       "    </tr>\n",
       "    <tr>\n",
       "      <th>2021-03-01</th>\n",
       "      <td>0.590909</td>\n",
       "      <td>0.538462</td>\n",
       "    </tr>\n",
       "    <tr>\n",
       "      <th>2021-04-01</th>\n",
       "      <td>0.736842</td>\n",
       "      <td>0.571429</td>\n",
       "    </tr>\n",
       "    <tr>\n",
       "      <th>2021-05-01</th>\n",
       "      <td>0.809524</td>\n",
       "      <td>0.470588</td>\n",
       "    </tr>\n",
       "    <tr>\n",
       "      <th>2021-06-01</th>\n",
       "      <td>0.523810</td>\n",
       "      <td>0.636364</td>\n",
       "    </tr>\n",
       "    <tr>\n",
       "      <th>2021-07-01</th>\n",
       "      <td>0.772727</td>\n",
       "      <td>0.411765</td>\n",
       "    </tr>\n",
       "    <tr>\n",
       "      <th>2021-08-01</th>\n",
       "      <td>0.545455</td>\n",
       "      <td>0.416667</td>\n",
       "    </tr>\n",
       "    <tr>\n",
       "      <th>2021-09-01</th>\n",
       "      <td>0.650000</td>\n",
       "      <td>0.538462</td>\n",
       "    </tr>\n",
       "    <tr>\n",
       "      <th>2021-10-01</th>\n",
       "      <td>0.700000</td>\n",
       "      <td>0.357143</td>\n",
       "    </tr>\n",
       "    <tr>\n",
       "      <th>2021-11-01</th>\n",
       "      <td>0.363636</td>\n",
       "      <td>0.500000</td>\n",
       "    </tr>\n",
       "    <tr>\n",
       "      <th>2021-12-01</th>\n",
       "      <td>0.409091</td>\n",
       "      <td>0.444444</td>\n",
       "    </tr>\n",
       "  </tbody>\n",
       "</table>\n",
       "</div>"
      ],
      "text/plain": [
       "            shot_rate  accuracy\n",
       "2019-05-01   0.590909  0.384615\n",
       "2019-06-01   0.578947  0.727273\n",
       "2019-07-01   0.608696  0.500000\n",
       "2019-08-01   0.380952  0.500000\n",
       "2019-09-01   0.157895  0.333333\n",
       "2019-10-01   0.523810  0.545455\n",
       "2019-11-01   0.380952  0.250000\n",
       "2019-12-01   0.409091  0.222222\n",
       "2020-01-01   0.400000  0.666667\n",
       "2020-02-01   0.052632  1.000000\n",
       "2020-03-01   0.272727  0.166667\n",
       "2020-04-01   0.500000  0.300000\n",
       "2020-05-01   0.250000  1.000000\n",
       "2020-06-01   0.650000  0.384615\n",
       "2020-07-01   0.608696  0.357143\n",
       "2020-08-01   0.571429  0.583333\n",
       "2020-09-01   0.545455  0.666667\n",
       "2020-10-01   0.578947  0.454545\n",
       "2020-11-01   0.476190  0.500000\n",
       "2020-12-01   0.652174  0.533333\n",
       "2021-01-01   0.800000  0.500000\n",
       "2021-02-01   0.846154  0.363636\n",
       "2021-03-01   0.590909  0.538462\n",
       "2021-04-01   0.736842  0.571429\n",
       "2021-05-01   0.809524  0.470588\n",
       "2021-06-01   0.523810  0.636364\n",
       "2021-07-01   0.772727  0.411765\n",
       "2021-08-01   0.545455  0.416667\n",
       "2021-09-01   0.650000  0.538462\n",
       "2021-10-01   0.700000  0.357143\n",
       "2021-11-01   0.363636  0.500000\n",
       "2021-12-01   0.409091  0.444444"
      ]
     },
     "execution_count": 58,
     "metadata": {},
     "output_type": "execute_result"
    }
   ],
   "source": [
    "df_result"
   ]
  },
  {
   "cell_type": "markdown",
   "metadata": {},
   "source": [
    "- 新方法"
   ]
  },
  {
   "cell_type": "code",
   "execution_count": 95,
   "metadata": {},
   "outputs": [
    {
     "name": "stdout",
     "output_type": "stream",
     "text": [
      "2020年1月出手率: 0.26666666666666666\n",
      "2020年1月預測準確率: 0.5\n",
      "2020年2月出手率: 0.0\n",
      "2020年2月預測準確率: nan\n",
      "2020年3月出手率: 0.22727272727272727\n",
      "2020年3月預測準確率: 0.0\n",
      "2020年4月出手率: 0.25\n",
      "2020年4月預測準確率: 0.2\n",
      "2020年5月出手率: 0.05\n",
      "2020年5月預測準確率: 0.0\n",
      "2020年6月出手率: 0.3\n",
      "2020年6月預測準確率: 0.16666666666666666\n",
      "2020年7月出手率: 0.30434782608695654\n",
      "2020年7月預測準確率: 0.2857142857142857\n",
      "2020年8月出手率: 0.14285714285714285\n",
      "2020年8月預測準確率: 0.6666666666666666\n",
      "2020年9月出手率: 0.22727272727272727\n",
      "2020年9月預測準確率: 0.6\n",
      "2020年10月出手率: 0.3157894736842105\n",
      "2020年10月預測準確率: 0.5\n",
      "2020年11月出手率: 0.23809523809523808\n",
      "2020年11月預測準確率: 0.8\n",
      "2020年12月出手率: 0.5217391304347826\n",
      "2020年12月預測準確率: 0.5\n",
      "2021年1月出手率: 0.3\n",
      "2021年1月預測準確率: 0.5\n",
      "2021年2月出手率: 0.3076923076923077\n",
      "2021年2月預測準確率: 0.75\n",
      "2021年3月出手率: 0.4090909090909091\n",
      "2021年3月預測準確率: 0.2222222222222222\n",
      "2021年4月出手率: 0.2631578947368421\n",
      "2021年4月預測準確率: 0.8\n",
      "2021年5月出手率: 0.2857142857142857\n",
      "2021年5月預測準確率: 0.16666666666666666\n",
      "2021年6月出手率: 0.23809523809523808\n",
      "2021年6月預測準確率: 0.4\n",
      "2021年7月出手率: 0.22727272727272727\n",
      "2021年7月預測準確率: 0.2\n",
      "2021年8月出手率: 0.22727272727272727\n",
      "2021年8月預測準確率: 0.2\n",
      "2021年9月出手率: 0.15\n",
      "2021年9月預測準確率: 0.3333333333333333\n",
      "2021年10月出手率: 0.2\n",
      "2021年10月預測準確率: 0.5\n",
      "2021年11月出手率: 0.22727272727272727\n",
      "2021年11月預測準確率: 0.4\n",
      "2021年12月出手率: 0.3181818181818182\n",
      "2021年12月預測準確率: 0.5714285714285714\n"
     ]
    }
   ],
   "source": [
    "df_result = pd.DataFrame()\n",
    "total_spot = 0\n",
    "total_bsday = 0\n",
    "true_count = 0\n",
    "false_count = 0\n",
    "up_predict_up = 0\n",
    "up_predict_down = 0\n",
    "down_predict_down = 0\n",
    "down_predict_up = 0\n",
    "for train_startDate, train_endDate, test_startDate, test_endDate in zip(train_startDate_list, train_endDate_list, test_startDate_list, test_endDate_list):\n",
    "    # 拆分資料集\n",
    "    train_data = df_IN_updown[train_startDate-pd.Timedelta(days=n):train_endDate-pd.Timedelta(days=n)]\n",
    "    test_data = df_IN_updown[test_startDate-pd.Timedelta(days=n):test_endDate-pd.Timedelta(days=n)]\n",
    "    test_data.drop('label', axis=1, inplace=True)\n",
    "    # 向量化\n",
    "    X_train = build_vector_space(train_data['content'])\n",
    "    y_train = train_data['label']\n",
    "    # 特徵篩選\n",
    "    kbest_vocabs = feature_select(X_train, y_train, selector=chi2, n_feature=500)\n",
    "    X_train = X_train[kbest_vocabs]\n",
    "    try:\n",
    "        X_test = build_vector_space(test_data['content'])\n",
    "    except:\n",
    "        continue\n",
    "    # 映射特徵向量到測試資料集\n",
    "    X_test = X_test.reindex(kbest_vocabs, axis=1, fill_value=0)\n",
    "    # 訓練模型\n",
    "    clf = GradientBoostingClassifier(n_estimators=100, learning_rate=1, max_depth=7, random_state=0)\n",
    "    # clf = RandomForestClassifier(n_estimators=150,max_depth=7)\n",
    "    try:\n",
    "        clf.fit(X_train, y_train)\n",
    "    except:\n",
    "        continue\n",
    "    # 預測結果\n",
    "    # test_label 為真實股價漲跌\n",
    "    test_label = df_IS[test_startDate:test_endDate]['updown']\n",
    "    test_data['predict_label'] = clf.predict(X_test)\n",
    "    test_data.index.set_names('date', inplace= True)\n",
    "    test_data = test_data.groupby(['date', 'predict_label']).count().sort_values('content', ascending = False).sort_index(level=[0], sort_remaining=False).unstack()\n",
    "    test_data.columns = test_data.columns.droplevel()\n",
    "    try:\n",
    "        test_data['rate'] = test_data['漲'] / test_data['跌']\n",
    "    except:\n",
    "        if test_data.columns.values[0] == '漲':\n",
    "            test_data['跌'] = 1\n",
    "        else:\n",
    "            test_data['漲'] = 1\n",
    "        test_data['rate'] = test_data['漲'] / test_data['跌']\n",
    "    test_data['predict_label'] = test_data['rate'].apply(lambda x: '漲' if x >= threshold_rate/0.67 else ('跌' if x <= (1/threshold_rate)*0.67 else np.nan))\n",
    "    predict_label = test_data['predict_label']\n",
    "    \n",
    "    # test_data['predict_label'] = test_data.columns.values[0]\n",
    "\n",
    "    # 將預測結果日期接回真實漲跌日期\n",
    "    predict_label.index = predict_label.index + pd.Timedelta(days=n)\n",
    "    # 預測狀況\n",
    "    df_outcome = pd.DataFrame([test_label, predict_label]).T\n",
    "    # 計算出手率\n",
    "    number_of_businessdays = len(df_outcome)\n",
    "    shot_rate = (number_of_businessdays - df_outcome['predict_label'].isna().sum()) / number_of_businessdays\n",
    "    print('{}年{}月出手率:'.format(test_startDate.year, test_startDate.month), shot_rate)\n",
    "    total_spot += number_of_businessdays - df_outcome['predict_label'].isna().sum()\n",
    "    total_bsday += number_of_businessdays\n",
    "    # 計算準確率\n",
    "    n_true = (df_outcome['updown'] == df_outcome['predict_label']).sum()\n",
    "    n_false = (df_outcome.dropna()['updown'] != df_outcome.dropna()['predict_label']).sum()\n",
    "    accuracy = n_true / (n_true + n_false)\n",
    "    print('{}年{}月預測準確率:'.format(test_startDate.year, test_startDate.month), accuracy)\n",
    "    true_count += n_true\n",
    "    false_count += n_false\n",
    "    \n",
    "    up_predict_up += ((df_outcome['updown'] == '漲') & (df_outcome['updown'] == df_outcome['predict_label'])).sum()\n",
    "    up_predict_down += ((df_outcome['updown'] == '漲') & (df_outcome.dropna()['updown'] != df_outcome.dropna()['predict_label'])).sum()\n",
    "    down_predict_down += ((df_outcome['updown'] == '跌') & (df_outcome['updown'] == df_outcome['predict_label'])).sum()\n",
    "    down_predict_up += ((df_outcome['updown'] == '跌') & (df_outcome.dropna()['updown'] != df_outcome.dropna()['predict_label'])).sum()\n",
    "    \n",
    "    \n",
    "    # 將統計結果彙整為一個DF\n",
    "    result = {'shot_rate':[shot_rate], 'accuracy':[accuracy]}\n",
    "    df_result = pd.concat([df_result, pd.DataFrame(data=result, index=[test_startDate])])"
   ]
  },
  {
   "cell_type": "code",
   "execution_count": 96,
   "metadata": {},
   "outputs": [
    {
     "name": "stdout",
     "output_type": "stream",
     "text": [
      "真實為漲且預測漲:29\n",
      "真實為漲但預測跌:35\n",
      "真實為跌但預測漲:38\n",
      "真實為跌且預測跌:21\n"
     ]
    }
   ],
   "source": [
    "print('真實為漲且預測漲:{}'.format(up_predict_up))\n",
    "print('真實為漲但預測跌:{}'.format(up_predict_down))\n",
    "print('真實為跌但預測漲:{}'.format(down_predict_up))\n",
    "print('真實為跌且預測跌:{}'.format(down_predict_down))"
   ]
  },
  {
   "cell_type": "code",
   "execution_count": 97,
   "metadata": {},
   "outputs": [
    {
     "name": "stdout",
     "output_type": "stream",
     "text": [
      "總出手次數:123\n",
      "出手率:0.25153374233128833\n",
      "平均準確率:0.4065040650406504\n"
     ]
    }
   ],
   "source": [
    "print('總出手次數:{}'.format(total_spot))\n",
    "print('出手率:{}'.format(total_spot / total_bsday))\n",
    "print('平均準確率:{}'.format(true_count / (true_count+false_count)))\n"
   ]
  },
  {
   "cell_type": "code",
   "execution_count": null,
   "metadata": {},
   "outputs": [
    {
     "data": {
      "text/html": [
       "<div>\n",
       "<style scoped>\n",
       "    .dataframe tbody tr th:only-of-type {\n",
       "        vertical-align: middle;\n",
       "    }\n",
       "\n",
       "    .dataframe tbody tr th {\n",
       "        vertical-align: top;\n",
       "    }\n",
       "\n",
       "    .dataframe thead th {\n",
       "        text-align: right;\n",
       "    }\n",
       "</style>\n",
       "<table border=\"1\" class=\"dataframe\">\n",
       "  <thead>\n",
       "    <tr style=\"text-align: right;\">\n",
       "      <th></th>\n",
       "      <th>shot_rate</th>\n",
       "      <th>accuracy</th>\n",
       "    </tr>\n",
       "  </thead>\n",
       "  <tbody>\n",
       "    <tr>\n",
       "      <th>2019-04-01</th>\n",
       "      <td>0.150000</td>\n",
       "      <td>1.000000</td>\n",
       "    </tr>\n",
       "    <tr>\n",
       "      <th>2019-05-01</th>\n",
       "      <td>0.318182</td>\n",
       "      <td>0.571429</td>\n",
       "    </tr>\n",
       "    <tr>\n",
       "      <th>2019-06-01</th>\n",
       "      <td>0.210526</td>\n",
       "      <td>1.000000</td>\n",
       "    </tr>\n",
       "    <tr>\n",
       "      <th>2019-07-01</th>\n",
       "      <td>0.130435</td>\n",
       "      <td>0.333333</td>\n",
       "    </tr>\n",
       "    <tr>\n",
       "      <th>2019-08-01</th>\n",
       "      <td>0.095238</td>\n",
       "      <td>0.500000</td>\n",
       "    </tr>\n",
       "    <tr>\n",
       "      <th>2019-09-01</th>\n",
       "      <td>0.052632</td>\n",
       "      <td>0.000000</td>\n",
       "    </tr>\n",
       "    <tr>\n",
       "      <th>2019-10-01</th>\n",
       "      <td>0.190476</td>\n",
       "      <td>0.750000</td>\n",
       "    </tr>\n",
       "    <tr>\n",
       "      <th>2019-11-01</th>\n",
       "      <td>0.095238</td>\n",
       "      <td>0.000000</td>\n",
       "    </tr>\n",
       "    <tr>\n",
       "      <th>2019-12-01</th>\n",
       "      <td>0.272727</td>\n",
       "      <td>0.333333</td>\n",
       "    </tr>\n",
       "    <tr>\n",
       "      <th>2020-01-01</th>\n",
       "      <td>0.133333</td>\n",
       "      <td>0.500000</td>\n",
       "    </tr>\n",
       "    <tr>\n",
       "      <th>2020-02-01</th>\n",
       "      <td>0.000000</td>\n",
       "      <td>NaN</td>\n",
       "    </tr>\n",
       "    <tr>\n",
       "      <th>2020-03-01</th>\n",
       "      <td>0.045455</td>\n",
       "      <td>0.000000</td>\n",
       "    </tr>\n",
       "    <tr>\n",
       "      <th>2020-04-01</th>\n",
       "      <td>0.200000</td>\n",
       "      <td>0.250000</td>\n",
       "    </tr>\n",
       "    <tr>\n",
       "      <th>2020-05-01</th>\n",
       "      <td>0.000000</td>\n",
       "      <td>NaN</td>\n",
       "    </tr>\n",
       "    <tr>\n",
       "      <th>2020-06-01</th>\n",
       "      <td>0.150000</td>\n",
       "      <td>0.666667</td>\n",
       "    </tr>\n",
       "    <tr>\n",
       "      <th>2020-07-01</th>\n",
       "      <td>0.086957</td>\n",
       "      <td>0.500000</td>\n",
       "    </tr>\n",
       "    <tr>\n",
       "      <th>2020-08-01</th>\n",
       "      <td>0.238095</td>\n",
       "      <td>0.600000</td>\n",
       "    </tr>\n",
       "    <tr>\n",
       "      <th>2020-09-01</th>\n",
       "      <td>0.045455</td>\n",
       "      <td>1.000000</td>\n",
       "    </tr>\n",
       "    <tr>\n",
       "      <th>2020-10-01</th>\n",
       "      <td>0.315789</td>\n",
       "      <td>0.666667</td>\n",
       "    </tr>\n",
       "    <tr>\n",
       "      <th>2020-11-01</th>\n",
       "      <td>0.000000</td>\n",
       "      <td>NaN</td>\n",
       "    </tr>\n",
       "    <tr>\n",
       "      <th>2020-12-01</th>\n",
       "      <td>0.304348</td>\n",
       "      <td>0.714286</td>\n",
       "    </tr>\n",
       "    <tr>\n",
       "      <th>2021-01-01</th>\n",
       "      <td>0.100000</td>\n",
       "      <td>0.000000</td>\n",
       "    </tr>\n",
       "    <tr>\n",
       "      <th>2021-02-01</th>\n",
       "      <td>0.076923</td>\n",
       "      <td>0.000000</td>\n",
       "    </tr>\n",
       "    <tr>\n",
       "      <th>2021-03-01</th>\n",
       "      <td>0.090909</td>\n",
       "      <td>1.000000</td>\n",
       "    </tr>\n",
       "    <tr>\n",
       "      <th>2021-04-01</th>\n",
       "      <td>0.105263</td>\n",
       "      <td>1.000000</td>\n",
       "    </tr>\n",
       "    <tr>\n",
       "      <th>2021-05-01</th>\n",
       "      <td>0.142857</td>\n",
       "      <td>0.666667</td>\n",
       "    </tr>\n",
       "    <tr>\n",
       "      <th>2021-06-01</th>\n",
       "      <td>0.190476</td>\n",
       "      <td>0.750000</td>\n",
       "    </tr>\n",
       "    <tr>\n",
       "      <th>2021-07-01</th>\n",
       "      <td>0.181818</td>\n",
       "      <td>0.750000</td>\n",
       "    </tr>\n",
       "    <tr>\n",
       "      <th>2021-08-01</th>\n",
       "      <td>0.136364</td>\n",
       "      <td>0.333333</td>\n",
       "    </tr>\n",
       "    <tr>\n",
       "      <th>2021-09-01</th>\n",
       "      <td>0.050000</td>\n",
       "      <td>1.000000</td>\n",
       "    </tr>\n",
       "    <tr>\n",
       "      <th>2021-10-01</th>\n",
       "      <td>0.050000</td>\n",
       "      <td>1.000000</td>\n",
       "    </tr>\n",
       "    <tr>\n",
       "      <th>2021-11-01</th>\n",
       "      <td>0.045455</td>\n",
       "      <td>0.000000</td>\n",
       "    </tr>\n",
       "    <tr>\n",
       "      <th>2021-12-01</th>\n",
       "      <td>0.045455</td>\n",
       "      <td>0.000000</td>\n",
       "    </tr>\n",
       "  </tbody>\n",
       "</table>\n",
       "</div>"
      ],
      "text/plain": [
       "            shot_rate  accuracy\n",
       "2019-04-01   0.150000  1.000000\n",
       "2019-05-01   0.318182  0.571429\n",
       "2019-06-01   0.210526  1.000000\n",
       "2019-07-01   0.130435  0.333333\n",
       "2019-08-01   0.095238  0.500000\n",
       "2019-09-01   0.052632  0.000000\n",
       "2019-10-01   0.190476  0.750000\n",
       "2019-11-01   0.095238  0.000000\n",
       "2019-12-01   0.272727  0.333333\n",
       "2020-01-01   0.133333  0.500000\n",
       "2020-02-01   0.000000       NaN\n",
       "2020-03-01   0.045455  0.000000\n",
       "2020-04-01   0.200000  0.250000\n",
       "2020-05-01   0.000000       NaN\n",
       "2020-06-01   0.150000  0.666667\n",
       "2020-07-01   0.086957  0.500000\n",
       "2020-08-01   0.238095  0.600000\n",
       "2020-09-01   0.045455  1.000000\n",
       "2020-10-01   0.315789  0.666667\n",
       "2020-11-01   0.000000       NaN\n",
       "2020-12-01   0.304348  0.714286\n",
       "2021-01-01   0.100000  0.000000\n",
       "2021-02-01   0.076923  0.000000\n",
       "2021-03-01   0.090909  1.000000\n",
       "2021-04-01   0.105263  1.000000\n",
       "2021-05-01   0.142857  0.666667\n",
       "2021-06-01   0.190476  0.750000\n",
       "2021-07-01   0.181818  0.750000\n",
       "2021-08-01   0.136364  0.333333\n",
       "2021-09-01   0.050000  1.000000\n",
       "2021-10-01   0.050000  1.000000\n",
       "2021-11-01   0.045455  0.000000\n",
       "2021-12-01   0.045455  0.000000"
      ]
     },
     "execution_count": 211,
     "metadata": {},
     "output_type": "execute_result"
    }
   ],
   "source": [
    "df_result"
   ]
  },
  {
   "cell_type": "markdown",
   "metadata": {},
   "source": [
    "# 討論\n",
    "    1.確定標的\n",
    "    2.更好的特徵選擇?\n",
    "    3.模型算法\n",
    "    4.出手的投票方式\n",
    "    "
   ]
  },
  {
   "cell_type": "markdown",
   "metadata": {},
   "source": [
    "# 出手投票方式：\n",
    "    1.漲跌分數域值\n",
    "    2.原資料集比例當域值\n",
    "# 特徵：\n",
    "    MI\n",
    "\n",
    "# 資料集：\n",
    "    News\n",
    "\n",
    "# 準確率：0.6up\n",
    "# 出手率：0.25up\n",
    "\n"
   ]
  }
 ],
 "metadata": {
  "interpreter": {
   "hash": "6fca7fc57dcb8bffbf963dd95f18f1f4986f044d8619d6e47800f0a0c627dafb"
  },
  "kernelspec": {
   "display_name": "Python 3.9.7 ('base')",
   "language": "python",
   "name": "python3"
  },
  "language_info": {
   "codemirror_mode": {
    "name": "ipython",
    "version": 3
   },
   "file_extension": ".py",
   "mimetype": "text/x-python",
   "name": "python",
   "nbconvert_exporter": "python",
   "pygments_lexer": "ipython3",
   "version": "3.9.7"
  },
  "orig_nbformat": 4
 },
 "nbformat": 4,
 "nbformat_minor": 2
}
